{
 "cells": [
  {
   "cell_type": "code",
   "execution_count": 1,
   "metadata": {},
   "outputs": [],
   "source": [
    "from pathlib import Path\n",
    "import json\n",
    "import numpy as np\n",
    "import os\n",
    "from scipy.signal import butter, lfilter\n",
    "import time\n",
    "from subprocess import Popen, PIPE\n",
    "import shlex\n",
    "import fire\n",
    "import matplotlib.pyplot as plt\n",
    "import math\n",
    "import numpy as np\n",
    "from scipy.fftpack import fft, fftfreq\n",
    "from scipy.interpolate import interp1d\n",
    "import math\n",
    "import pandas as pd\n",
    "import glob\n",
    "from scipy.stats import zscore\n",
    "import sys"
   ]
  },
  {
   "cell_type": "code",
   "execution_count": 2,
   "metadata": {},
   "outputs": [],
   "source": [
    "def read_respiratory_trace(bids_physio_file, column=None):\n",
    "    # Read in physio file and extract only the physio data\n",
    "    if column is None:\n",
    "        if \"tsv.gz\" in bids_physio_file:\n",
    "            physio_json = bids_physio_file.replace(\"tsv.gz\", \"json\")\n",
    "        elif \"tsv\" in bids_physio_file:\n",
    "            physio_json = bids_physio_file.replace(\"tsv\", \"json\")\n",
    "        else:\n",
    "            raise ValueError(\"the physio file must be a tsv or tsv.gz file\")\n",
    "        # read physio json\n",
    "        with open(physio_json) as f:\n",
    "            metadata = json.load(f)\n",
    "        # get respiratory index\n",
    "        resp_index = metadata[\"Columns\"].index(\"respiratory\")\n",
    "    else:\n",
    "        # just set index as column value\n",
    "        resp_index = int(column)\n",
    "    # read physio data\n",
    "    physio_data = np.genfromtxt(bids_physio_file)\n",
    "    # return column of respiratory trace\n",
    "    return physio_data[:, resp_index]\n",
    "\n",
    "\n",
    "def extract_max_freq(resp_trace, sampling_rate):\n",
    "    fourier_transform = np.fft.rfft(resp_trace)\n",
    "    abs_fourier_transform = np.abs(fourier_transform)\n",
    "    power_spectrum = np.square(abs_fourier_transform)\n",
    "    frequency = np.linspace(0, sampling_rate / 2, len(power_spectrum))\n",
    "    assert len(power_spectrum) == len(frequency)\n",
    "    return frequency[np.argmax(power_spectrum)]\n",
    "\n",
    "\n",
    "def butter_bandpass(lowcut, highcut, fs, order):\n",
    "    nyq = 0.5 * fs\n",
    "    low = lowcut / nyq\n",
    "    high = highcut / nyq\n",
    "    b, a = butter(order, [low, high], btype=\"band\")\n",
    "    return b, a\n",
    "\n",
    "\n",
    "def butter_bandpass_filter(data, lowcut, highcut, fs, order):\n",
    "    print([lowcut, highcut, fs])\n",
    "    b, a = butter_bandpass(lowcut, highcut, fs, order=order)\n",
    "    y = lfilter(b, a, data)\n",
    "    return y\n",
    "\n",
    "\n",
    "def filter_frequency(data, fs, order):\n",
    "    return butter_bandpass_filter(data, 0.075, 1, fs, order)\n",
    "\n",
    "\n",
    "def write_output(output_folder, physio_path, data):\n",
    "    out = Path(output_folder)\n",
    "    if not out.is_dir():\n",
    "        raise FileNotFoundError(\"output directory is not found\")\n",
    "    outname = \"{}.1D\".format(os.path.basename(physio_path).split(\".\")[0])\n",
    "    np.savetxt(str(out / outname), data, fmt=\"%.06f\")\n",
    "    return str(out / outname)\n",
    "\n",
    "\n",
    "def process_physio(physio_path, output_dir, fs):\n",
    "    rt = read_respiratory_trace(physio_path, column=2)\n",
    "    # demean rt\n",
    "    rt = rt - np.mean(rt)\n",
    "    max_freq = extract_max_freq(rt, fs)\n",
    "    if (max_freq > 0.15) and (max_freq < 1):\n",
    "        filtered = filter_frequency(rt, fs, 3)\n",
    "        return write_output(output_dir, physio_path, filtered)\n",
    "    else:\n",
    "        return None\n",
    "\n",
    "\n",
    "def make_retroicor_string(nifti_image, physio_path, output_dir):\n",
    "    new_nifti_name = \"{}_retroicor.nii.gz\".format(\n",
    "        os.path.basename(nifti_image).split(\".\")[0]\n",
    "    )\n",
    "    output_dir = Path(output_dir).resolve()\n",
    "    return \"3dretroicor -prefix {} -resp {} {}\".format(\n",
    "        output_dir / new_nifti_name, physio_path, nifti_image\n",
    "    )\n",
    "\n",
    "\n",
    "def print_cmd(cmd_str):\n",
    "    print(cmd_str.replace(\" -\", \"\\n -\"))\n",
    "\n",
    "\n",
    "def run_cmd(cmd):\n",
    "    start_time = time.time()\n",
    "    print_cmd(cmd)\n",
    "    p = Popen(shlex.split(cmd), stdout=PIPE, stderr=PIPE)\n",
    "    stdout, stderr = p.communicate()\n",
    "    print(\"Elapsed time: {:.2f}s\".format(time.time() - start_time))\n",
    "\n",
    "\n",
    "def run(nifti_image, physio_path, output_dir, fs):\n",
    "    processed_physio_path = process_physio(physio_path, output_dir, fs)\n",
    "    if processed_physio_path is None:\n",
    "        print(\"{}: bad physio file\".format(physio_path))\n",
    "        return\n",
    "    # resolve full physio_path\n",
    "    processed_physio_path = Path(processed_physio_path).resolve()\n",
    "    retroicor_str = make_retroicor_string(\n",
    "        nifti_image, processed_physio_path, output_dir\n",
    "    )\n",
    "    print(retroicor_str)\n",
    "    run_cmd(retroicor_str)"
   ]
  },
  {
   "cell_type": "markdown",
   "metadata": {},
   "source": [
    "# Read in and plot raw trace"
   ]
  },
  {
   "cell_type": "code",
   "execution_count": 16,
   "metadata": {},
   "outputs": [
    {
     "data": {
      "text/plain": [
       "['sub-09_ses-movie_task-movie_run-6_recording-cardresp_physio.tsv.gz',\n",
       " 'sub-15_ses-movie_task-movie_run-3_recording-cardresp_physio.tsv.gz',\n",
       " 'sub-02_ses-movie_task-movie_run-3_recording-cardresp_physio.tsv.gz',\n",
       " 'sub-04_ses-movie_task-movie_run-5_recording-cardresp_physio.tsv.gz',\n",
       " 'sub-10_ses-movie_task-movie_run-6_recording-cardresp_physio.tsv.gz',\n",
       " 'sub-04_ses-movie_task-movie_run-1_recording-cardresp_physio.tsv.gz',\n",
       " 'sub-10_ses-movie_task-movie_run-2_recording-cardresp_physio.tsv.gz',\n",
       " 'sub-18_ses-movie_task-movie_run-4_recording-cardresp_physio.tsv.gz',\n",
       " 'sub-15_ses-movie_task-movie_run-7_recording-cardresp_physio.tsv.gz',\n",
       " 'sub-09_ses-movie_task-movie_run-2_recording-cardresp_physio.tsv.gz',\n",
       " 'sub-16_ses-movie_task-movie_run-4_recording-cardresp_physio.tsv.gz',\n",
       " 'sub-02_ses-movie_task-movie_run-7_recording-cardresp_physio.tsv.gz',\n",
       " 'sub-03_ses-movie_task-movie_run-8_recording-cardresp_physio.tsv.gz',\n",
       " 'sub-14_ses-movie_task-movie_run-8_recording-cardresp_physio.tsv.gz',\n",
       " 'sub-20_ses-movie_task-movie_run-2_recording-cardresp_physio.tsv.gz',\n",
       " 'sub-17_ses-movie_task-movie_run-3_recording-cardresp_physio.tsv.gz',\n",
       " 'sub-06_ses-movie_task-movie_run-5_recording-cardresp_physio.tsv.gz',\n",
       " 'sub-19_ses-movie_task-movie_run-3_recording-cardresp_physio.tsv.gz',\n",
       " 'sub-05_ses-movie_task-movie_run-6_recording-cardresp_physio.tsv.gz',\n",
       " 'sub-16_ses-movie_task-movie_run-8_recording-cardresp_physio.tsv.gz',\n",
       " 'sub-18_ses-movie_task-movie_run-8_recording-cardresp_physio.tsv.gz',\n",
       " 'sub-06_ses-movie_task-movie_run-1_recording-cardresp_physio.tsv.gz',\n",
       " 'sub-05_ses-movie_task-movie_run-2_recording-cardresp_physio.tsv.gz',\n",
       " 'sub-19_ses-movie_task-movie_run-7_recording-cardresp_physio.tsv.gz',\n",
       " 'sub-14_ses-movie_task-movie_run-4_recording-cardresp_physio.tsv.gz',\n",
       " 'sub-17_ses-movie_task-movie_run-7_recording-cardresp_physio.tsv.gz',\n",
       " 'sub-03_ses-movie_task-movie_run-4_recording-cardresp_physio.tsv.gz',\n",
       " 'sub-20_ses-movie_task-movie_run-6_recording-cardresp_physio.tsv.gz',\n",
       " 'sub-06_ses-movie_task-movie_run-6_recording-cardresp_physio.tsv.gz',\n",
       " 'sub-05_ses-movie_task-movie_run-5_recording-cardresp_physio.tsv.gz',\n",
       " 'sub-14_ses-movie_task-movie_run-3_recording-cardresp_physio.tsv.gz',\n",
       " 'sub-03_ses-movie_task-movie_run-3_recording-cardresp_physio.tsv.gz',\n",
       " 'sub-20_ses-movie_task-movie_run-1_recording-cardresp_physio.tsv.gz',\n",
       " 'sub-02_ses-movie_task-movie_run-8_recording-cardresp_physio.tsv.gz',\n",
       " 'sub-15_ses-movie_task-movie_run-8_recording-cardresp_physio.tsv.gz',\n",
       " 'sub-14_ses-movie_task-movie_run-7_recording-cardresp_physio.tsv.gz',\n",
       " 'sub-20_ses-movie_task-movie_run-5_recording-cardresp_physio.tsv.gz',\n",
       " 'sub-03_ses-movie_task-movie_run-7_recording-cardresp_physio.tsv.gz',\n",
       " 'sub-17_ses-movie_task-movie_run-4_recording-cardresp_physio.tsv.gz',\n",
       " 'sub-06_ses-movie_task-movie_run-2_recording-cardresp_physio.tsv.gz',\n",
       " 'sub-19_ses-movie_task-movie_run-4_recording-cardresp_physio.tsv.gz',\n",
       " 'sub-05_ses-movie_task-movie_run-1_recording-cardresp_physio.tsv.gz',\n",
       " 'sub-10_ses-movie_task-movie_run-5_recording-cardresp_physio.tsv.gz',\n",
       " 'sub-04_ses-movie_task-movie_run-6_recording-cardresp_physio.tsv.gz',\n",
       " 'sub-18_ses-movie_task-movie_run-3_recording-cardresp_physio.tsv.gz',\n",
       " 'sub-09_ses-movie_task-movie_run-5_recording-cardresp_physio.tsv.gz',\n",
       " 'sub-16_ses-movie_task-movie_run-3_recording-cardresp_physio.tsv.gz',\n",
       " 'sub-09_ses-movie_task-movie_run-1_recording-cardresp_physio.tsv.gz',\n",
       " 'sub-15_ses-movie_task-movie_run-4_recording-cardresp_physio.tsv.gz',\n",
       " 'sub-02_ses-movie_task-movie_run-4_recording-cardresp_physio.tsv.gz',\n",
       " 'sub-16_ses-movie_task-movie_run-7_recording-cardresp_physio.tsv.gz',\n",
       " 'sub-18_ses-movie_task-movie_run-7_recording-cardresp_physio.tsv.gz',\n",
       " 'sub-10_ses-movie_task-movie_run-1_recording-cardresp_physio.tsv.gz',\n",
       " 'sub-04_ses-movie_task-movie_run-2_recording-cardresp_physio.tsv.gz',\n",
       " 'sub-19_ses-movie_task-movie_run-8_recording-cardresp_physio.tsv.gz',\n",
       " 'sub-17_ses-movie_task-movie_run-8_recording-cardresp_physio.tsv.gz',\n",
       " 'sub-19_ses-movie_task-movie_run-6_recording-cardresp_physio.tsv.gz',\n",
       " 'sub-05_ses-movie_task-movie_run-3_recording-cardresp_physio.tsv.gz',\n",
       " 'sub-20_ses-movie_task-movie_run-7_recording-cardresp_physio.tsv.gz',\n",
       " 'sub-03_ses-movie_task-movie_run-5_recording-cardresp_physio.tsv.gz',\n",
       " 'sub-17_ses-movie_task-movie_run-6_recording-cardresp_physio.tsv.gz',\n",
       " 'sub-14_ses-movie_task-movie_run-5_recording-cardresp_physio.tsv.gz',\n",
       " 'sub-03_ses-movie_task-movie_run-1_recording-cardresp_physio.tsv.gz',\n",
       " 'sub-17_ses-movie_task-movie_run-2_recording-cardresp_physio.tsv.gz',\n",
       " 'sub-20_ses-movie_task-movie_run-3_recording-cardresp_physio.tsv.gz',\n",
       " 'sub-14_ses-movie_task-movie_run-1_recording-cardresp_physio.tsv.gz',\n",
       " 'sub-05_ses-movie_task-movie_run-7_recording-cardresp_physio.tsv.gz',\n",
       " 'sub-19_ses-movie_task-movie_run-2_recording-cardresp_physio.tsv.gz',\n",
       " 'sub-06_ses-movie_task-movie_run-4_recording-cardresp_physio.tsv.gz',\n",
       " 'sub-04_ses-movie_task-movie_run-8_recording-cardresp_physio.tsv.gz',\n",
       " 'sub-18_ses-movie_task-movie_run-5_recording-cardresp_physio.tsv.gz',\n",
       " 'sub-10_ses-movie_task-movie_run-3_recording-cardresp_physio.tsv.gz',\n",
       " 'sub-02_ses-movie_task-movie_run-6_recording-cardresp_physio.tsv.gz',\n",
       " 'sub-16_ses-movie_task-movie_run-5_recording-cardresp_physio.tsv.gz',\n",
       " 'sub-09_ses-movie_task-movie_run-3_recording-cardresp_physio.tsv.gz',\n",
       " 'sub-15_ses-movie_task-movie_run-6_recording-cardresp_physio.tsv.gz',\n",
       " 'sub-06_ses-movie_task-movie_run-8_recording-cardresp_physio.tsv.gz',\n",
       " 'sub-02_ses-movie_task-movie_run-2_recording-cardresp_physio.tsv.gz',\n",
       " 'sub-16_ses-movie_task-movie_run-1_recording-cardresp_physio.tsv.gz',\n",
       " 'sub-15_ses-movie_task-movie_run-2_recording-cardresp_physio.tsv.gz',\n",
       " 'sub-09_ses-movie_task-movie_run-7_recording-cardresp_physio.tsv.gz',\n",
       " 'sub-10_ses-movie_task-movie_run-7_recording-cardresp_physio.tsv.gz',\n",
       " 'sub-04_ses-movie_task-movie_run-4_recording-cardresp_physio.tsv.gz',\n",
       " 'sub-18_ses-movie_task-movie_run-1_recording-cardresp_physio.tsv.gz',\n",
       " 'sub-16_ses-movie_task-movie_run-6_recording-cardresp_physio.tsv.gz',\n",
       " 'sub-02_ses-movie_task-movie_run-5_recording-cardresp_physio.tsv.gz',\n",
       " 'sub-15_ses-movie_task-movie_run-5_recording-cardresp_physio.tsv.gz',\n",
       " 'sub-04_ses-movie_task-movie_run-3_recording-cardresp_physio.tsv.gz',\n",
       " 'sub-18_ses-movie_task-movie_run-6_recording-cardresp_physio.tsv.gz',\n",
       " 'sub-20_ses-movie_task-movie_run-8_recording-cardresp_physio.tsv.gz',\n",
       " 'sub-05_ses-movie_task-movie_run-8_recording-cardresp_physio.tsv.gz',\n",
       " 'sub-18_ses-movie_task-movie_run-2_recording-cardresp_physio.tsv.gz',\n",
       " 'sub-04_ses-movie_task-movie_run-7_recording-cardresp_physio.tsv.gz',\n",
       " 'sub-10_ses-movie_task-movie_run-4_recording-cardresp_physio.tsv.gz',\n",
       " 'sub-16_ses-movie_task-movie_run-2_recording-cardresp_physio.tsv.gz',\n",
       " 'sub-02_ses-movie_task-movie_run-1_recording-cardresp_physio.tsv.gz',\n",
       " 'sub-09_ses-movie_task-movie_run-4_recording-cardresp_physio.tsv.gz',\n",
       " 'sub-15_ses-movie_task-movie_run-1_recording-cardresp_physio.tsv.gz',\n",
       " 'sub-17_ses-movie_task-movie_run-5_recording-cardresp_physio.tsv.gz',\n",
       " 'sub-03_ses-movie_task-movie_run-6_recording-cardresp_physio.tsv.gz',\n",
       " 'sub-20_ses-movie_task-movie_run-4_recording-cardresp_physio.tsv.gz',\n",
       " 'sub-14_ses-movie_task-movie_run-6_recording-cardresp_physio.tsv.gz',\n",
       " 'sub-19_ses-movie_task-movie_run-5_recording-cardresp_physio.tsv.gz',\n",
       " 'sub-06_ses-movie_task-movie_run-3_recording-cardresp_physio.tsv.gz',\n",
       " 'sub-19_ses-movie_task-movie_run-1_recording-cardresp_physio.tsv.gz',\n",
       " 'sub-05_ses-movie_task-movie_run-4_recording-cardresp_physio.tsv.gz',\n",
       " 'sub-06_ses-movie_task-movie_run-7_recording-cardresp_physio.tsv.gz',\n",
       " 'sub-17_ses-movie_task-movie_run-1_recording-cardresp_physio.tsv.gz',\n",
       " 'sub-03_ses-movie_task-movie_run-2_recording-cardresp_physio.tsv.gz',\n",
       " 'sub-14_ses-movie_task-movie_run-2_recording-cardresp_physio.tsv.gz',\n",
       " 'sub-09_ses-movie_task-movie_run-8_recording-cardresp_physio.tsv.gz',\n",
       " 'sub-10_ses-movie_task-movie_run-8_recording-cardresp_physio.tsv.gz']"
      ]
     },
     "execution_count": 16,
     "metadata": {},
     "output_type": "execute_result"
    }
   ],
   "source": [
    "traces = glob.glob('*tsv.gz')\n",
    "traces"
   ]
  },
  {
   "cell_type": "code",
   "execution_count": 34,
   "metadata": {},
   "outputs": [
    {
     "name": "stdout",
     "output_type": "stream",
     "text": [
      "[0.07, 1, 500]\n"
     ]
    },
    {
     "name": "stderr",
     "output_type": "stream",
     "text": [
      "/Users/paul/anaconda3/lib/python3.7/site-packages/ipykernel_launcher.py:9: UserWarning: Creating legend with loc=\"best\" can be slow with large amounts of data.\n",
      "  if __name__ == '__main__':\n",
      "/Users/paul/anaconda3/lib/python3.7/site-packages/ipykernel_launcher.py:9: UserWarning: Creating legend with loc=\"best\" can be slow with large amounts of data.\n",
      "  if __name__ == '__main__':\n"
     ]
    },
    {
     "name": "stdout",
     "output_type": "stream",
     "text": [
      "[0.07, 1, 500]\n"
     ]
    },
    {
     "name": "stderr",
     "output_type": "stream",
     "text": [
      "/Users/paul/anaconda3/lib/python3.7/site-packages/ipykernel_launcher.py:9: UserWarning: Creating legend with loc=\"best\" can be slow with large amounts of data.\n",
      "  if __name__ == '__main__':\n"
     ]
    },
    {
     "name": "stdout",
     "output_type": "stream",
     "text": [
      "[0.07, 1, 500]\n"
     ]
    },
    {
     "name": "stderr",
     "output_type": "stream",
     "text": [
      "/Users/paul/anaconda3/lib/python3.7/site-packages/ipykernel_launcher.py:9: UserWarning: Creating legend with loc=\"best\" can be slow with large amounts of data.\n",
      "  if __name__ == '__main__':\n"
     ]
    },
    {
     "name": "stdout",
     "output_type": "stream",
     "text": [
      "[0.07, 1, 500]\n"
     ]
    },
    {
     "name": "stderr",
     "output_type": "stream",
     "text": [
      "/Users/paul/anaconda3/lib/python3.7/site-packages/ipykernel_launcher.py:9: UserWarning: Creating legend with loc=\"best\" can be slow with large amounts of data.\n",
      "  if __name__ == '__main__':\n"
     ]
    },
    {
     "name": "stdout",
     "output_type": "stream",
     "text": [
      "[0.07, 1, 500]\n"
     ]
    },
    {
     "name": "stderr",
     "output_type": "stream",
     "text": [
      "/Users/paul/anaconda3/lib/python3.7/site-packages/ipykernel_launcher.py:9: UserWarning: Creating legend with loc=\"best\" can be slow with large amounts of data.\n",
      "  if __name__ == '__main__':\n"
     ]
    },
    {
     "name": "stdout",
     "output_type": "stream",
     "text": [
      "[0.07, 1, 500]\n"
     ]
    },
    {
     "name": "stderr",
     "output_type": "stream",
     "text": [
      "/Users/paul/anaconda3/lib/python3.7/site-packages/ipykernel_launcher.py:9: UserWarning: Creating legend with loc=\"best\" can be slow with large amounts of data.\n",
      "  if __name__ == '__main__':\n"
     ]
    },
    {
     "name": "stdout",
     "output_type": "stream",
     "text": [
      "[0.07, 1, 500]\n"
     ]
    },
    {
     "name": "stderr",
     "output_type": "stream",
     "text": [
      "/Users/paul/anaconda3/lib/python3.7/site-packages/ipykernel_launcher.py:9: UserWarning: Creating legend with loc=\"best\" can be slow with large amounts of data.\n",
      "  if __name__ == '__main__':\n"
     ]
    },
    {
     "name": "stdout",
     "output_type": "stream",
     "text": [
      "[0.07, 1, 500]\n"
     ]
    },
    {
     "name": "stderr",
     "output_type": "stream",
     "text": [
      "/Users/paul/anaconda3/lib/python3.7/site-packages/ipykernel_launcher.py:9: UserWarning: Creating legend with loc=\"best\" can be slow with large amounts of data.\n",
      "  if __name__ == '__main__':\n"
     ]
    },
    {
     "name": "stdout",
     "output_type": "stream",
     "text": [
      "[0.07, 1, 500]\n"
     ]
    },
    {
     "name": "stderr",
     "output_type": "stream",
     "text": [
      "/Users/paul/anaconda3/lib/python3.7/site-packages/ipykernel_launcher.py:9: UserWarning: Creating legend with loc=\"best\" can be slow with large amounts of data.\n",
      "  if __name__ == '__main__':\n"
     ]
    },
    {
     "name": "stdout",
     "output_type": "stream",
     "text": [
      "[0.07, 1, 500]\n"
     ]
    },
    {
     "name": "stderr",
     "output_type": "stream",
     "text": [
      "/Users/paul/anaconda3/lib/python3.7/site-packages/ipykernel_launcher.py:9: UserWarning: Creating legend with loc=\"best\" can be slow with large amounts of data.\n",
      "  if __name__ == '__main__':\n"
     ]
    },
    {
     "name": "stdout",
     "output_type": "stream",
     "text": [
      "[0.07, 1, 500]\n"
     ]
    },
    {
     "name": "stderr",
     "output_type": "stream",
     "text": [
      "/Users/paul/anaconda3/lib/python3.7/site-packages/ipykernel_launcher.py:9: UserWarning: Creating legend with loc=\"best\" can be slow with large amounts of data.\n",
      "  if __name__ == '__main__':\n"
     ]
    },
    {
     "name": "stdout",
     "output_type": "stream",
     "text": [
      "[0.07, 1, 500]\n"
     ]
    },
    {
     "name": "stderr",
     "output_type": "stream",
     "text": [
      "/Users/paul/anaconda3/lib/python3.7/site-packages/ipykernel_launcher.py:9: UserWarning: Creating legend with loc=\"best\" can be slow with large amounts of data.\n",
      "  if __name__ == '__main__':\n"
     ]
    },
    {
     "name": "stdout",
     "output_type": "stream",
     "text": [
      "[0.07, 1, 500]\n"
     ]
    },
    {
     "name": "stderr",
     "output_type": "stream",
     "text": [
      "/Users/paul/anaconda3/lib/python3.7/site-packages/ipykernel_launcher.py:9: UserWarning: Creating legend with loc=\"best\" can be slow with large amounts of data.\n",
      "  if __name__ == '__main__':\n"
     ]
    },
    {
     "name": "stdout",
     "output_type": "stream",
     "text": [
      "[0.07, 1, 500]\n"
     ]
    },
    {
     "name": "stderr",
     "output_type": "stream",
     "text": [
      "/Users/paul/anaconda3/lib/python3.7/site-packages/ipykernel_launcher.py:9: UserWarning: Creating legend with loc=\"best\" can be slow with large amounts of data.\n",
      "  if __name__ == '__main__':\n"
     ]
    },
    {
     "name": "stdout",
     "output_type": "stream",
     "text": [
      "[0.07, 1, 500]\n"
     ]
    },
    {
     "name": "stderr",
     "output_type": "stream",
     "text": [
      "/Users/paul/anaconda3/lib/python3.7/site-packages/ipykernel_launcher.py:9: UserWarning: Creating legend with loc=\"best\" can be slow with large amounts of data.\n",
      "  if __name__ == '__main__':\n"
     ]
    },
    {
     "name": "stdout",
     "output_type": "stream",
     "text": [
      "[0.07, 1, 500]\n"
     ]
    },
    {
     "name": "stderr",
     "output_type": "stream",
     "text": [
      "/Users/paul/anaconda3/lib/python3.7/site-packages/ipykernel_launcher.py:9: UserWarning: Creating legend with loc=\"best\" can be slow with large amounts of data.\n",
      "  if __name__ == '__main__':\n"
     ]
    },
    {
     "name": "stdout",
     "output_type": "stream",
     "text": [
      "[0.07, 1, 500]\n"
     ]
    },
    {
     "name": "stderr",
     "output_type": "stream",
     "text": [
      "/Users/paul/anaconda3/lib/python3.7/site-packages/ipykernel_launcher.py:9: UserWarning: Creating legend with loc=\"best\" can be slow with large amounts of data.\n",
      "  if __name__ == '__main__':\n"
     ]
    },
    {
     "name": "stdout",
     "output_type": "stream",
     "text": [
      "[0.07, 1, 500]\n"
     ]
    },
    {
     "name": "stderr",
     "output_type": "stream",
     "text": [
      "/Users/paul/anaconda3/lib/python3.7/site-packages/ipykernel_launcher.py:9: UserWarning: Creating legend with loc=\"best\" can be slow with large amounts of data.\n",
      "  if __name__ == '__main__':\n"
     ]
    },
    {
     "name": "stdout",
     "output_type": "stream",
     "text": [
      "[0.07, 1, 500]\n"
     ]
    },
    {
     "name": "stderr",
     "output_type": "stream",
     "text": [
      "/Users/paul/anaconda3/lib/python3.7/site-packages/ipykernel_launcher.py:9: UserWarning: Creating legend with loc=\"best\" can be slow with large amounts of data.\n",
      "  if __name__ == '__main__':\n"
     ]
    },
    {
     "name": "stdout",
     "output_type": "stream",
     "text": [
      "[0.07, 1, 500]\n"
     ]
    },
    {
     "name": "stderr",
     "output_type": "stream",
     "text": [
      "/Users/paul/anaconda3/lib/python3.7/site-packages/ipykernel_launcher.py:9: UserWarning: Creating legend with loc=\"best\" can be slow with large amounts of data.\n",
      "  if __name__ == '__main__':\n"
     ]
    },
    {
     "name": "stdout",
     "output_type": "stream",
     "text": [
      "[0.07, 1, 500]\n"
     ]
    },
    {
     "name": "stderr",
     "output_type": "stream",
     "text": [
      "/Users/paul/anaconda3/lib/python3.7/site-packages/ipykernel_launcher.py:9: UserWarning: Creating legend with loc=\"best\" can be slow with large amounts of data.\n",
      "  if __name__ == '__main__':\n"
     ]
    },
    {
     "name": "stdout",
     "output_type": "stream",
     "text": [
      "[0.07, 1, 500]\n"
     ]
    },
    {
     "name": "stderr",
     "output_type": "stream",
     "text": [
      "/Users/paul/anaconda3/lib/python3.7/site-packages/ipykernel_launcher.py:9: UserWarning: Creating legend with loc=\"best\" can be slow with large amounts of data.\n",
      "  if __name__ == '__main__':\n"
     ]
    },
    {
     "name": "stdout",
     "output_type": "stream",
     "text": [
      "[0.07, 1, 500]\n"
     ]
    },
    {
     "name": "stderr",
     "output_type": "stream",
     "text": [
      "/Users/paul/anaconda3/lib/python3.7/site-packages/ipykernel_launcher.py:9: UserWarning: Creating legend with loc=\"best\" can be slow with large amounts of data.\n",
      "  if __name__ == '__main__':\n"
     ]
    },
    {
     "name": "stdout",
     "output_type": "stream",
     "text": [
      "[0.07, 1, 500]\n"
     ]
    },
    {
     "name": "stderr",
     "output_type": "stream",
     "text": [
      "/Users/paul/anaconda3/lib/python3.7/site-packages/ipykernel_launcher.py:9: UserWarning: Creating legend with loc=\"best\" can be slow with large amounts of data.\n",
      "  if __name__ == '__main__':\n"
     ]
    },
    {
     "name": "stdout",
     "output_type": "stream",
     "text": [
      "[0.07, 1, 500]\n"
     ]
    },
    {
     "name": "stderr",
     "output_type": "stream",
     "text": [
      "/Users/paul/anaconda3/lib/python3.7/site-packages/ipykernel_launcher.py:9: UserWarning: Creating legend with loc=\"best\" can be slow with large amounts of data.\n",
      "  if __name__ == '__main__':\n"
     ]
    },
    {
     "name": "stdout",
     "output_type": "stream",
     "text": [
      "[0.07, 1, 500]\n"
     ]
    },
    {
     "name": "stderr",
     "output_type": "stream",
     "text": [
      "/Users/paul/anaconda3/lib/python3.7/site-packages/ipykernel_launcher.py:9: UserWarning: Creating legend with loc=\"best\" can be slow with large amounts of data.\n",
      "  if __name__ == '__main__':\n"
     ]
    },
    {
     "name": "stdout",
     "output_type": "stream",
     "text": [
      "[0.07, 1, 500]\n"
     ]
    },
    {
     "name": "stderr",
     "output_type": "stream",
     "text": [
      "/Users/paul/anaconda3/lib/python3.7/site-packages/ipykernel_launcher.py:9: UserWarning: Creating legend with loc=\"best\" can be slow with large amounts of data.\n",
      "  if __name__ == '__main__':\n"
     ]
    },
    {
     "name": "stdout",
     "output_type": "stream",
     "text": [
      "[0.07, 1, 500]\n"
     ]
    },
    {
     "name": "stderr",
     "output_type": "stream",
     "text": [
      "/Users/paul/anaconda3/lib/python3.7/site-packages/ipykernel_launcher.py:9: UserWarning: Creating legend with loc=\"best\" can be slow with large amounts of data.\n",
      "  if __name__ == '__main__':\n"
     ]
    },
    {
     "name": "stdout",
     "output_type": "stream",
     "text": [
      "[0.07, 1, 500]\n"
     ]
    },
    {
     "name": "stderr",
     "output_type": "stream",
     "text": [
      "/Users/paul/anaconda3/lib/python3.7/site-packages/ipykernel_launcher.py:9: UserWarning: Creating legend with loc=\"best\" can be slow with large amounts of data.\n",
      "  if __name__ == '__main__':\n"
     ]
    },
    {
     "name": "stdout",
     "output_type": "stream",
     "text": [
      "[0.07, 1, 500]\n"
     ]
    },
    {
     "name": "stderr",
     "output_type": "stream",
     "text": [
      "/Users/paul/anaconda3/lib/python3.7/site-packages/ipykernel_launcher.py:9: UserWarning: Creating legend with loc=\"best\" can be slow with large amounts of data.\n",
      "  if __name__ == '__main__':\n"
     ]
    },
    {
     "name": "stdout",
     "output_type": "stream",
     "text": [
      "[0.07, 1, 500]\n"
     ]
    },
    {
     "name": "stderr",
     "output_type": "stream",
     "text": [
      "/Users/paul/anaconda3/lib/python3.7/site-packages/ipykernel_launcher.py:9: UserWarning: Creating legend with loc=\"best\" can be slow with large amounts of data.\n",
      "  if __name__ == '__main__':\n"
     ]
    },
    {
     "name": "stdout",
     "output_type": "stream",
     "text": [
      "[0.07, 1, 500]\n"
     ]
    },
    {
     "name": "stderr",
     "output_type": "stream",
     "text": [
      "/Users/paul/anaconda3/lib/python3.7/site-packages/ipykernel_launcher.py:9: UserWarning: Creating legend with loc=\"best\" can be slow with large amounts of data.\n",
      "  if __name__ == '__main__':\n"
     ]
    },
    {
     "name": "stdout",
     "output_type": "stream",
     "text": [
      "[0.07, 1, 500]\n"
     ]
    },
    {
     "name": "stderr",
     "output_type": "stream",
     "text": [
      "/Users/paul/anaconda3/lib/python3.7/site-packages/ipykernel_launcher.py:9: UserWarning: Creating legend with loc=\"best\" can be slow with large amounts of data.\n",
      "  if __name__ == '__main__':\n"
     ]
    },
    {
     "name": "stdout",
     "output_type": "stream",
     "text": [
      "[0.07, 1, 500]\n"
     ]
    },
    {
     "name": "stderr",
     "output_type": "stream",
     "text": [
      "/Users/paul/anaconda3/lib/python3.7/site-packages/ipykernel_launcher.py:9: UserWarning: Creating legend with loc=\"best\" can be slow with large amounts of data.\n",
      "  if __name__ == '__main__':\n"
     ]
    },
    {
     "name": "stdout",
     "output_type": "stream",
     "text": [
      "[0.07, 1, 500]\n"
     ]
    },
    {
     "name": "stderr",
     "output_type": "stream",
     "text": [
      "/Users/paul/anaconda3/lib/python3.7/site-packages/ipykernel_launcher.py:9: UserWarning: Creating legend with loc=\"best\" can be slow with large amounts of data.\n",
      "  if __name__ == '__main__':\n"
     ]
    },
    {
     "name": "stdout",
     "output_type": "stream",
     "text": [
      "[0.07, 1, 500]\n"
     ]
    },
    {
     "name": "stderr",
     "output_type": "stream",
     "text": [
      "/Users/paul/anaconda3/lib/python3.7/site-packages/ipykernel_launcher.py:9: UserWarning: Creating legend with loc=\"best\" can be slow with large amounts of data.\n",
      "  if __name__ == '__main__':\n"
     ]
    },
    {
     "name": "stdout",
     "output_type": "stream",
     "text": [
      "[0.07, 1, 500]\n"
     ]
    },
    {
     "name": "stderr",
     "output_type": "stream",
     "text": [
      "/Users/paul/anaconda3/lib/python3.7/site-packages/ipykernel_launcher.py:9: UserWarning: Creating legend with loc=\"best\" can be slow with large amounts of data.\n",
      "  if __name__ == '__main__':\n"
     ]
    },
    {
     "name": "stdout",
     "output_type": "stream",
     "text": [
      "[0.07, 1, 500]\n"
     ]
    },
    {
     "name": "stderr",
     "output_type": "stream",
     "text": [
      "/Users/paul/anaconda3/lib/python3.7/site-packages/ipykernel_launcher.py:9: UserWarning: Creating legend with loc=\"best\" can be slow with large amounts of data.\n",
      "  if __name__ == '__main__':\n"
     ]
    },
    {
     "name": "stdout",
     "output_type": "stream",
     "text": [
      "[0.07, 1, 500]\n"
     ]
    },
    {
     "name": "stderr",
     "output_type": "stream",
     "text": [
      "/Users/paul/anaconda3/lib/python3.7/site-packages/ipykernel_launcher.py:9: UserWarning: Creating legend with loc=\"best\" can be slow with large amounts of data.\n",
      "  if __name__ == '__main__':\n"
     ]
    },
    {
     "name": "stdout",
     "output_type": "stream",
     "text": [
      "[0.07, 1, 500]\n"
     ]
    },
    {
     "name": "stderr",
     "output_type": "stream",
     "text": [
      "/Users/paul/anaconda3/lib/python3.7/site-packages/ipykernel_launcher.py:9: UserWarning: Creating legend with loc=\"best\" can be slow with large amounts of data.\n",
      "  if __name__ == '__main__':\n"
     ]
    },
    {
     "name": "stdout",
     "output_type": "stream",
     "text": [
      "[0.07, 1, 500]\n"
     ]
    },
    {
     "name": "stderr",
     "output_type": "stream",
     "text": [
      "/Users/paul/anaconda3/lib/python3.7/site-packages/ipykernel_launcher.py:9: UserWarning: Creating legend with loc=\"best\" can be slow with large amounts of data.\n",
      "  if __name__ == '__main__':\n"
     ]
    },
    {
     "name": "stdout",
     "output_type": "stream",
     "text": [
      "[0.07, 1, 500]\n"
     ]
    },
    {
     "name": "stderr",
     "output_type": "stream",
     "text": [
      "/Users/paul/anaconda3/lib/python3.7/site-packages/ipykernel_launcher.py:9: UserWarning: Creating legend with loc=\"best\" can be slow with large amounts of data.\n",
      "  if __name__ == '__main__':\n"
     ]
    },
    {
     "name": "stdout",
     "output_type": "stream",
     "text": [
      "[0.07, 1, 500]\n"
     ]
    },
    {
     "name": "stderr",
     "output_type": "stream",
     "text": [
      "/Users/paul/anaconda3/lib/python3.7/site-packages/ipykernel_launcher.py:9: UserWarning: Creating legend with loc=\"best\" can be slow with large amounts of data.\n",
      "  if __name__ == '__main__':\n"
     ]
    },
    {
     "name": "stdout",
     "output_type": "stream",
     "text": [
      "[0.07, 1, 500]\n"
     ]
    },
    {
     "name": "stderr",
     "output_type": "stream",
     "text": [
      "/Users/paul/anaconda3/lib/python3.7/site-packages/ipykernel_launcher.py:9: UserWarning: Creating legend with loc=\"best\" can be slow with large amounts of data.\n",
      "  if __name__ == '__main__':\n"
     ]
    },
    {
     "name": "stdout",
     "output_type": "stream",
     "text": [
      "[0.07, 1, 500]\n"
     ]
    },
    {
     "name": "stderr",
     "output_type": "stream",
     "text": [
      "/Users/paul/anaconda3/lib/python3.7/site-packages/ipykernel_launcher.py:9: UserWarning: Creating legend with loc=\"best\" can be slow with large amounts of data.\n",
      "  if __name__ == '__main__':\n"
     ]
    },
    {
     "name": "stdout",
     "output_type": "stream",
     "text": [
      "[0.07, 1, 500]\n"
     ]
    },
    {
     "name": "stderr",
     "output_type": "stream",
     "text": [
      "/Users/paul/anaconda3/lib/python3.7/site-packages/ipykernel_launcher.py:9: UserWarning: Creating legend with loc=\"best\" can be slow with large amounts of data.\n",
      "  if __name__ == '__main__':\n"
     ]
    },
    {
     "name": "stdout",
     "output_type": "stream",
     "text": [
      "[0.07, 1, 500]\n"
     ]
    },
    {
     "name": "stderr",
     "output_type": "stream",
     "text": [
      "/Users/paul/anaconda3/lib/python3.7/site-packages/ipykernel_launcher.py:9: UserWarning: Creating legend with loc=\"best\" can be slow with large amounts of data.\n",
      "  if __name__ == '__main__':\n"
     ]
    },
    {
     "name": "stdout",
     "output_type": "stream",
     "text": [
      "[0.07, 1, 500]\n"
     ]
    },
    {
     "name": "stderr",
     "output_type": "stream",
     "text": [
      "/Users/paul/anaconda3/lib/python3.7/site-packages/ipykernel_launcher.py:9: UserWarning: Creating legend with loc=\"best\" can be slow with large amounts of data.\n",
      "  if __name__ == '__main__':\n"
     ]
    },
    {
     "name": "stdout",
     "output_type": "stream",
     "text": [
      "[0.07, 1, 500]\n"
     ]
    },
    {
     "name": "stderr",
     "output_type": "stream",
     "text": [
      "/Users/paul/anaconda3/lib/python3.7/site-packages/ipykernel_launcher.py:9: UserWarning: Creating legend with loc=\"best\" can be slow with large amounts of data.\n",
      "  if __name__ == '__main__':\n"
     ]
    },
    {
     "name": "stdout",
     "output_type": "stream",
     "text": [
      "[0.07, 1, 500]\n"
     ]
    },
    {
     "name": "stderr",
     "output_type": "stream",
     "text": [
      "/Users/paul/anaconda3/lib/python3.7/site-packages/ipykernel_launcher.py:9: UserWarning: Creating legend with loc=\"best\" can be slow with large amounts of data.\n",
      "  if __name__ == '__main__':\n"
     ]
    },
    {
     "name": "stdout",
     "output_type": "stream",
     "text": [
      "[0.07, 1, 500]\n"
     ]
    },
    {
     "name": "stderr",
     "output_type": "stream",
     "text": [
      "/Users/paul/anaconda3/lib/python3.7/site-packages/ipykernel_launcher.py:9: UserWarning: Creating legend with loc=\"best\" can be slow with large amounts of data.\n",
      "  if __name__ == '__main__':\n"
     ]
    },
    {
     "name": "stdout",
     "output_type": "stream",
     "text": [
      "[0.07, 1, 500]\n"
     ]
    },
    {
     "name": "stderr",
     "output_type": "stream",
     "text": [
      "/Users/paul/anaconda3/lib/python3.7/site-packages/ipykernel_launcher.py:9: UserWarning: Creating legend with loc=\"best\" can be slow with large amounts of data.\n",
      "  if __name__ == '__main__':\n"
     ]
    },
    {
     "name": "stdout",
     "output_type": "stream",
     "text": [
      "[0.07, 1, 500]\n"
     ]
    },
    {
     "name": "stderr",
     "output_type": "stream",
     "text": [
      "/Users/paul/anaconda3/lib/python3.7/site-packages/ipykernel_launcher.py:9: UserWarning: Creating legend with loc=\"best\" can be slow with large amounts of data.\n",
      "  if __name__ == '__main__':\n"
     ]
    },
    {
     "name": "stdout",
     "output_type": "stream",
     "text": [
      "[0.07, 1, 500]\n"
     ]
    },
    {
     "name": "stderr",
     "output_type": "stream",
     "text": [
      "/Users/paul/anaconda3/lib/python3.7/site-packages/ipykernel_launcher.py:9: UserWarning: Creating legend with loc=\"best\" can be slow with large amounts of data.\n",
      "  if __name__ == '__main__':\n"
     ]
    },
    {
     "name": "stdout",
     "output_type": "stream",
     "text": [
      "[0.07, 1, 500]\n"
     ]
    },
    {
     "name": "stderr",
     "output_type": "stream",
     "text": [
      "/Users/paul/anaconda3/lib/python3.7/site-packages/ipykernel_launcher.py:9: UserWarning: Creating legend with loc=\"best\" can be slow with large amounts of data.\n",
      "  if __name__ == '__main__':\n"
     ]
    },
    {
     "name": "stdout",
     "output_type": "stream",
     "text": [
      "[0.07, 1, 500]\n"
     ]
    },
    {
     "name": "stderr",
     "output_type": "stream",
     "text": [
      "/Users/paul/anaconda3/lib/python3.7/site-packages/ipykernel_launcher.py:9: UserWarning: Creating legend with loc=\"best\" can be slow with large amounts of data.\n",
      "  if __name__ == '__main__':\n"
     ]
    },
    {
     "name": "stdout",
     "output_type": "stream",
     "text": [
      "[0.07, 1, 500]\n"
     ]
    },
    {
     "name": "stderr",
     "output_type": "stream",
     "text": [
      "/Users/paul/anaconda3/lib/python3.7/site-packages/ipykernel_launcher.py:9: UserWarning: Creating legend with loc=\"best\" can be slow with large amounts of data.\n",
      "  if __name__ == '__main__':\n"
     ]
    },
    {
     "name": "stdout",
     "output_type": "stream",
     "text": [
      "[0.07, 1, 500]\n"
     ]
    },
    {
     "name": "stderr",
     "output_type": "stream",
     "text": [
      "/Users/paul/anaconda3/lib/python3.7/site-packages/ipykernel_launcher.py:9: UserWarning: Creating legend with loc=\"best\" can be slow with large amounts of data.\n",
      "  if __name__ == '__main__':\n"
     ]
    },
    {
     "name": "stdout",
     "output_type": "stream",
     "text": [
      "[0.07, 1, 500]\n"
     ]
    },
    {
     "name": "stderr",
     "output_type": "stream",
     "text": [
      "/Users/paul/anaconda3/lib/python3.7/site-packages/ipykernel_launcher.py:9: UserWarning: Creating legend with loc=\"best\" can be slow with large amounts of data.\n",
      "  if __name__ == '__main__':\n"
     ]
    },
    {
     "name": "stdout",
     "output_type": "stream",
     "text": [
      "[0.07, 1, 500]\n"
     ]
    },
    {
     "name": "stderr",
     "output_type": "stream",
     "text": [
      "/Users/paul/anaconda3/lib/python3.7/site-packages/ipykernel_launcher.py:9: UserWarning: Creating legend with loc=\"best\" can be slow with large amounts of data.\n",
      "  if __name__ == '__main__':\n"
     ]
    },
    {
     "name": "stdout",
     "output_type": "stream",
     "text": [
      "[0.07, 1, 500]\n"
     ]
    },
    {
     "name": "stderr",
     "output_type": "stream",
     "text": [
      "/Users/paul/anaconda3/lib/python3.7/site-packages/ipykernel_launcher.py:9: UserWarning: Creating legend with loc=\"best\" can be slow with large amounts of data.\n",
      "  if __name__ == '__main__':\n"
     ]
    },
    {
     "name": "stdout",
     "output_type": "stream",
     "text": [
      "[0.07, 1, 500]\n"
     ]
    },
    {
     "name": "stderr",
     "output_type": "stream",
     "text": [
      "/Users/paul/anaconda3/lib/python3.7/site-packages/ipykernel_launcher.py:9: UserWarning: Creating legend with loc=\"best\" can be slow with large amounts of data.\n",
      "  if __name__ == '__main__':\n"
     ]
    },
    {
     "name": "stdout",
     "output_type": "stream",
     "text": [
      "[0.07, 1, 500]\n"
     ]
    },
    {
     "name": "stderr",
     "output_type": "stream",
     "text": [
      "/Users/paul/anaconda3/lib/python3.7/site-packages/ipykernel_launcher.py:9: UserWarning: Creating legend with loc=\"best\" can be slow with large amounts of data.\n",
      "  if __name__ == '__main__':\n"
     ]
    },
    {
     "name": "stdout",
     "output_type": "stream",
     "text": [
      "[0.07, 1, 500]\n"
     ]
    },
    {
     "name": "stderr",
     "output_type": "stream",
     "text": [
      "/Users/paul/anaconda3/lib/python3.7/site-packages/ipykernel_launcher.py:9: UserWarning: Creating legend with loc=\"best\" can be slow with large amounts of data.\n",
      "  if __name__ == '__main__':\n"
     ]
    },
    {
     "name": "stdout",
     "output_type": "stream",
     "text": [
      "[0.07, 1, 500]\n"
     ]
    },
    {
     "name": "stderr",
     "output_type": "stream",
     "text": [
      "/Users/paul/anaconda3/lib/python3.7/site-packages/ipykernel_launcher.py:9: UserWarning: Creating legend with loc=\"best\" can be slow with large amounts of data.\n",
      "  if __name__ == '__main__':\n"
     ]
    },
    {
     "name": "stdout",
     "output_type": "stream",
     "text": [
      "[0.07, 1, 500]\n"
     ]
    },
    {
     "name": "stderr",
     "output_type": "stream",
     "text": [
      "/Users/paul/anaconda3/lib/python3.7/site-packages/ipykernel_launcher.py:9: UserWarning: Creating legend with loc=\"best\" can be slow with large amounts of data.\n",
      "  if __name__ == '__main__':\n"
     ]
    },
    {
     "name": "stdout",
     "output_type": "stream",
     "text": [
      "[0.07, 1, 500]\n"
     ]
    },
    {
     "name": "stderr",
     "output_type": "stream",
     "text": [
      "/Users/paul/anaconda3/lib/python3.7/site-packages/ipykernel_launcher.py:9: UserWarning: Creating legend with loc=\"best\" can be slow with large amounts of data.\n",
      "  if __name__ == '__main__':\n"
     ]
    },
    {
     "name": "stdout",
     "output_type": "stream",
     "text": [
      "[0.07, 1, 500]\n"
     ]
    },
    {
     "name": "stderr",
     "output_type": "stream",
     "text": [
      "/Users/paul/anaconda3/lib/python3.7/site-packages/ipykernel_launcher.py:9: UserWarning: Creating legend with loc=\"best\" can be slow with large amounts of data.\n",
      "  if __name__ == '__main__':\n"
     ]
    },
    {
     "name": "stdout",
     "output_type": "stream",
     "text": [
      "[0.07, 1, 500]\n"
     ]
    },
    {
     "name": "stderr",
     "output_type": "stream",
     "text": [
      "/Users/paul/anaconda3/lib/python3.7/site-packages/ipykernel_launcher.py:9: UserWarning: Creating legend with loc=\"best\" can be slow with large amounts of data.\n",
      "  if __name__ == '__main__':\n"
     ]
    },
    {
     "name": "stdout",
     "output_type": "stream",
     "text": [
      "[0.07, 1, 500]\n"
     ]
    },
    {
     "name": "stderr",
     "output_type": "stream",
     "text": [
      "/Users/paul/anaconda3/lib/python3.7/site-packages/ipykernel_launcher.py:9: UserWarning: Creating legend with loc=\"best\" can be slow with large amounts of data.\n",
      "  if __name__ == '__main__':\n"
     ]
    },
    {
     "name": "stdout",
     "output_type": "stream",
     "text": [
      "[0.07, 1, 500]\n"
     ]
    },
    {
     "name": "stderr",
     "output_type": "stream",
     "text": [
      "/Users/paul/anaconda3/lib/python3.7/site-packages/ipykernel_launcher.py:9: UserWarning: Creating legend with loc=\"best\" can be slow with large amounts of data.\n",
      "  if __name__ == '__main__':\n"
     ]
    },
    {
     "name": "stdout",
     "output_type": "stream",
     "text": [
      "[0.07, 1, 500]\n"
     ]
    },
    {
     "name": "stderr",
     "output_type": "stream",
     "text": [
      "/Users/paul/anaconda3/lib/python3.7/site-packages/ipykernel_launcher.py:9: UserWarning: Creating legend with loc=\"best\" can be slow with large amounts of data.\n",
      "  if __name__ == '__main__':\n"
     ]
    },
    {
     "name": "stdout",
     "output_type": "stream",
     "text": [
      "[0.07, 1, 500]\n"
     ]
    },
    {
     "name": "stderr",
     "output_type": "stream",
     "text": [
      "/Users/paul/anaconda3/lib/python3.7/site-packages/ipykernel_launcher.py:9: UserWarning: Creating legend with loc=\"best\" can be slow with large amounts of data.\n",
      "  if __name__ == '__main__':\n"
     ]
    },
    {
     "name": "stdout",
     "output_type": "stream",
     "text": [
      "[0.07, 1, 500]\n"
     ]
    },
    {
     "name": "stderr",
     "output_type": "stream",
     "text": [
      "/Users/paul/anaconda3/lib/python3.7/site-packages/ipykernel_launcher.py:9: UserWarning: Creating legend with loc=\"best\" can be slow with large amounts of data.\n",
      "  if __name__ == '__main__':\n"
     ]
    },
    {
     "name": "stdout",
     "output_type": "stream",
     "text": [
      "[0.07, 1, 500]\n"
     ]
    },
    {
     "name": "stderr",
     "output_type": "stream",
     "text": [
      "/Users/paul/anaconda3/lib/python3.7/site-packages/ipykernel_launcher.py:9: UserWarning: Creating legend with loc=\"best\" can be slow with large amounts of data.\n",
      "  if __name__ == '__main__':\n"
     ]
    },
    {
     "name": "stdout",
     "output_type": "stream",
     "text": [
      "[0.07, 1, 500]\n"
     ]
    },
    {
     "name": "stderr",
     "output_type": "stream",
     "text": [
      "/Users/paul/anaconda3/lib/python3.7/site-packages/ipykernel_launcher.py:9: UserWarning: Creating legend with loc=\"best\" can be slow with large amounts of data.\n",
      "  if __name__ == '__main__':\n"
     ]
    },
    {
     "name": "stdout",
     "output_type": "stream",
     "text": [
      "[0.07, 1, 500]\n"
     ]
    },
    {
     "name": "stderr",
     "output_type": "stream",
     "text": [
      "/Users/paul/anaconda3/lib/python3.7/site-packages/ipykernel_launcher.py:9: UserWarning: Creating legend with loc=\"best\" can be slow with large amounts of data.\n",
      "  if __name__ == '__main__':\n"
     ]
    },
    {
     "name": "stdout",
     "output_type": "stream",
     "text": [
      "[0.07, 1, 500]\n"
     ]
    },
    {
     "name": "stderr",
     "output_type": "stream",
     "text": [
      "/Users/paul/anaconda3/lib/python3.7/site-packages/ipykernel_launcher.py:9: UserWarning: Creating legend with loc=\"best\" can be slow with large amounts of data.\n",
      "  if __name__ == '__main__':\n"
     ]
    },
    {
     "name": "stdout",
     "output_type": "stream",
     "text": [
      "[0.07, 1, 500]\n"
     ]
    },
    {
     "name": "stderr",
     "output_type": "stream",
     "text": [
      "/Users/paul/anaconda3/lib/python3.7/site-packages/ipykernel_launcher.py:9: UserWarning: Creating legend with loc=\"best\" can be slow with large amounts of data.\n",
      "  if __name__ == '__main__':\n"
     ]
    },
    {
     "name": "stdout",
     "output_type": "stream",
     "text": [
      "[0.07, 1, 500]\n"
     ]
    },
    {
     "name": "stderr",
     "output_type": "stream",
     "text": [
      "/Users/paul/anaconda3/lib/python3.7/site-packages/ipykernel_launcher.py:9: UserWarning: Creating legend with loc=\"best\" can be slow with large amounts of data.\n",
      "  if __name__ == '__main__':\n"
     ]
    },
    {
     "name": "stdout",
     "output_type": "stream",
     "text": [
      "[0.07, 1, 500]\n"
     ]
    },
    {
     "name": "stderr",
     "output_type": "stream",
     "text": [
      "/Users/paul/anaconda3/lib/python3.7/site-packages/ipykernel_launcher.py:9: UserWarning: Creating legend with loc=\"best\" can be slow with large amounts of data.\n",
      "  if __name__ == '__main__':\n"
     ]
    },
    {
     "name": "stdout",
     "output_type": "stream",
     "text": [
      "[0.07, 1, 500]\n"
     ]
    },
    {
     "name": "stderr",
     "output_type": "stream",
     "text": [
      "/Users/paul/anaconda3/lib/python3.7/site-packages/ipykernel_launcher.py:9: UserWarning: Creating legend with loc=\"best\" can be slow with large amounts of data.\n",
      "  if __name__ == '__main__':\n"
     ]
    },
    {
     "name": "stdout",
     "output_type": "stream",
     "text": [
      "[0.07, 1, 500]\n"
     ]
    },
    {
     "name": "stderr",
     "output_type": "stream",
     "text": [
      "/Users/paul/anaconda3/lib/python3.7/site-packages/ipykernel_launcher.py:9: UserWarning: Creating legend with loc=\"best\" can be slow with large amounts of data.\n",
      "  if __name__ == '__main__':\n"
     ]
    },
    {
     "name": "stdout",
     "output_type": "stream",
     "text": [
      "[0.07, 1, 500]\n"
     ]
    },
    {
     "name": "stderr",
     "output_type": "stream",
     "text": [
      "/Users/paul/anaconda3/lib/python3.7/site-packages/ipykernel_launcher.py:9: UserWarning: Creating legend with loc=\"best\" can be slow with large amounts of data.\n",
      "  if __name__ == '__main__':\n"
     ]
    },
    {
     "name": "stdout",
     "output_type": "stream",
     "text": [
      "[0.07, 1, 500]\n"
     ]
    },
    {
     "name": "stderr",
     "output_type": "stream",
     "text": [
      "/Users/paul/anaconda3/lib/python3.7/site-packages/ipykernel_launcher.py:9: UserWarning: Creating legend with loc=\"best\" can be slow with large amounts of data.\n",
      "  if __name__ == '__main__':\n"
     ]
    },
    {
     "name": "stdout",
     "output_type": "stream",
     "text": [
      "[0.07, 1, 500]\n"
     ]
    },
    {
     "name": "stderr",
     "output_type": "stream",
     "text": [
      "/Users/paul/anaconda3/lib/python3.7/site-packages/ipykernel_launcher.py:9: UserWarning: Creating legend with loc=\"best\" can be slow with large amounts of data.\n",
      "  if __name__ == '__main__':\n"
     ]
    },
    {
     "name": "stdout",
     "output_type": "stream",
     "text": [
      "[0.07, 1, 500]\n"
     ]
    },
    {
     "name": "stderr",
     "output_type": "stream",
     "text": [
      "/Users/paul/anaconda3/lib/python3.7/site-packages/ipykernel_launcher.py:9: UserWarning: Creating legend with loc=\"best\" can be slow with large amounts of data.\n",
      "  if __name__ == '__main__':\n"
     ]
    },
    {
     "name": "stdout",
     "output_type": "stream",
     "text": [
      "[0.07, 1, 500]\n"
     ]
    },
    {
     "name": "stderr",
     "output_type": "stream",
     "text": [
      "/Users/paul/anaconda3/lib/python3.7/site-packages/ipykernel_launcher.py:9: UserWarning: Creating legend with loc=\"best\" can be slow with large amounts of data.\n",
      "  if __name__ == '__main__':\n"
     ]
    },
    {
     "name": "stdout",
     "output_type": "stream",
     "text": [
      "[0.07, 1, 500]\n"
     ]
    },
    {
     "name": "stderr",
     "output_type": "stream",
     "text": [
      "/Users/paul/anaconda3/lib/python3.7/site-packages/ipykernel_launcher.py:9: UserWarning: Creating legend with loc=\"best\" can be slow with large amounts of data.\n",
      "  if __name__ == '__main__':\n"
     ]
    },
    {
     "name": "stdout",
     "output_type": "stream",
     "text": [
      "[0.07, 1, 500]\n"
     ]
    },
    {
     "name": "stderr",
     "output_type": "stream",
     "text": [
      "/Users/paul/anaconda3/lib/python3.7/site-packages/ipykernel_launcher.py:9: UserWarning: Creating legend with loc=\"best\" can be slow with large amounts of data.\n",
      "  if __name__ == '__main__':\n"
     ]
    },
    {
     "name": "stdout",
     "output_type": "stream",
     "text": [
      "[0.07, 1, 500]\n"
     ]
    },
    {
     "name": "stderr",
     "output_type": "stream",
     "text": [
      "/Users/paul/anaconda3/lib/python3.7/site-packages/ipykernel_launcher.py:9: UserWarning: Creating legend with loc=\"best\" can be slow with large amounts of data.\n",
      "  if __name__ == '__main__':\n"
     ]
    },
    {
     "name": "stdout",
     "output_type": "stream",
     "text": [
      "[0.07, 1, 500]\n"
     ]
    },
    {
     "name": "stderr",
     "output_type": "stream",
     "text": [
      "/Users/paul/anaconda3/lib/python3.7/site-packages/ipykernel_launcher.py:9: UserWarning: Creating legend with loc=\"best\" can be slow with large amounts of data.\n",
      "  if __name__ == '__main__':\n"
     ]
    },
    {
     "name": "stdout",
     "output_type": "stream",
     "text": [
      "[0.07, 1, 500]\n"
     ]
    },
    {
     "name": "stderr",
     "output_type": "stream",
     "text": [
      "/Users/paul/anaconda3/lib/python3.7/site-packages/ipykernel_launcher.py:9: UserWarning: Creating legend with loc=\"best\" can be slow with large amounts of data.\n",
      "  if __name__ == '__main__':\n"
     ]
    },
    {
     "name": "stdout",
     "output_type": "stream",
     "text": [
      "[0.07, 1, 500]\n"
     ]
    },
    {
     "name": "stderr",
     "output_type": "stream",
     "text": [
      "/Users/paul/anaconda3/lib/python3.7/site-packages/ipykernel_launcher.py:9: UserWarning: Creating legend with loc=\"best\" can be slow with large amounts of data.\n",
      "  if __name__ == '__main__':\n"
     ]
    },
    {
     "name": "stdout",
     "output_type": "stream",
     "text": [
      "[0.07, 1, 500]\n"
     ]
    },
    {
     "name": "stderr",
     "output_type": "stream",
     "text": [
      "/Users/paul/anaconda3/lib/python3.7/site-packages/ipykernel_launcher.py:9: UserWarning: Creating legend with loc=\"best\" can be slow with large amounts of data.\n",
      "  if __name__ == '__main__':\n"
     ]
    },
    {
     "name": "stdout",
     "output_type": "stream",
     "text": [
      "[0.07, 1, 500]\n"
     ]
    },
    {
     "name": "stderr",
     "output_type": "stream",
     "text": [
      "/Users/paul/anaconda3/lib/python3.7/site-packages/ipykernel_launcher.py:9: UserWarning: Creating legend with loc=\"best\" can be slow with large amounts of data.\n",
      "  if __name__ == '__main__':\n"
     ]
    },
    {
     "name": "stdout",
     "output_type": "stream",
     "text": [
      "[0.07, 1, 500]\n"
     ]
    },
    {
     "name": "stderr",
     "output_type": "stream",
     "text": [
      "/Users/paul/anaconda3/lib/python3.7/site-packages/ipykernel_launcher.py:9: UserWarning: Creating legend with loc=\"best\" can be slow with large amounts of data.\n",
      "  if __name__ == '__main__':\n"
     ]
    },
    {
     "name": "stdout",
     "output_type": "stream",
     "text": [
      "[0.07, 1, 500]\n"
     ]
    },
    {
     "name": "stderr",
     "output_type": "stream",
     "text": [
      "/Users/paul/anaconda3/lib/python3.7/site-packages/ipykernel_launcher.py:9: UserWarning: Creating legend with loc=\"best\" can be slow with large amounts of data.\n",
      "  if __name__ == '__main__':\n"
     ]
    },
    {
     "name": "stdout",
     "output_type": "stream",
     "text": [
      "[0.07, 1, 500]\n"
     ]
    },
    {
     "name": "stderr",
     "output_type": "stream",
     "text": [
      "/Users/paul/anaconda3/lib/python3.7/site-packages/ipykernel_launcher.py:9: UserWarning: Creating legend with loc=\"best\" can be slow with large amounts of data.\n",
      "  if __name__ == '__main__':\n"
     ]
    },
    {
     "name": "stdout",
     "output_type": "stream",
     "text": [
      "[0.07, 1, 500]\n"
     ]
    },
    {
     "name": "stderr",
     "output_type": "stream",
     "text": [
      "/Users/paul/anaconda3/lib/python3.7/site-packages/ipykernel_launcher.py:9: UserWarning: Creating legend with loc=\"best\" can be slow with large amounts of data.\n",
      "  if __name__ == '__main__':\n"
     ]
    },
    {
     "name": "stdout",
     "output_type": "stream",
     "text": [
      "[0.07, 1, 500]\n"
     ]
    },
    {
     "name": "stderr",
     "output_type": "stream",
     "text": [
      "/Users/paul/anaconda3/lib/python3.7/site-packages/ipykernel_launcher.py:9: UserWarning: Creating legend with loc=\"best\" can be slow with large amounts of data.\n",
      "  if __name__ == '__main__':\n"
     ]
    },
    {
     "name": "stdout",
     "output_type": "stream",
     "text": [
      "[0.07, 1, 500]\n"
     ]
    },
    {
     "name": "stderr",
     "output_type": "stream",
     "text": [
      "/Users/paul/anaconda3/lib/python3.7/site-packages/ipykernel_launcher.py:9: UserWarning: Creating legend with loc=\"best\" can be slow with large amounts of data.\n",
      "  if __name__ == '__main__':\n"
     ]
    },
    {
     "name": "stdout",
     "output_type": "stream",
     "text": [
      "[0.07, 1, 500]\n"
     ]
    },
    {
     "name": "stderr",
     "output_type": "stream",
     "text": [
      "/Users/paul/anaconda3/lib/python3.7/site-packages/ipykernel_launcher.py:9: UserWarning: Creating legend with loc=\"best\" can be slow with large amounts of data.\n",
      "  if __name__ == '__main__':\n"
     ]
    },
    {
     "name": "stdout",
     "output_type": "stream",
     "text": [
      "[0.07, 1, 500]\n"
     ]
    },
    {
     "name": "stderr",
     "output_type": "stream",
     "text": [
      "/Users/paul/anaconda3/lib/python3.7/site-packages/ipykernel_launcher.py:9: UserWarning: Creating legend with loc=\"best\" can be slow with large amounts of data.\n",
      "  if __name__ == '__main__':\n"
     ]
    },
    {
     "name": "stdout",
     "output_type": "stream",
     "text": [
      "[0.07, 1, 500]\n"
     ]
    },
    {
     "name": "stderr",
     "output_type": "stream",
     "text": [
      "/Users/paul/anaconda3/lib/python3.7/site-packages/ipykernel_launcher.py:9: UserWarning: Creating legend with loc=\"best\" can be slow with large amounts of data.\n",
      "  if __name__ == '__main__':\n"
     ]
    },
    {
     "name": "stdout",
     "output_type": "stream",
     "text": [
      "[0.07, 1, 500]\n"
     ]
    },
    {
     "name": "stderr",
     "output_type": "stream",
     "text": [
      "/Users/paul/anaconda3/lib/python3.7/site-packages/ipykernel_launcher.py:9: UserWarning: Creating legend with loc=\"best\" can be slow with large amounts of data.\n",
      "  if __name__ == '__main__':\n"
     ]
    },
    {
     "name": "stdout",
     "output_type": "stream",
     "text": [
      "[0.07, 1, 500]\n"
     ]
    },
    {
     "name": "stderr",
     "output_type": "stream",
     "text": [
      "/Users/paul/anaconda3/lib/python3.7/site-packages/ipykernel_launcher.py:9: UserWarning: Creating legend with loc=\"best\" can be slow with large amounts of data.\n",
      "  if __name__ == '__main__':\n"
     ]
    },
    {
     "name": "stdout",
     "output_type": "stream",
     "text": [
      "[0.07, 1, 500]\n"
     ]
    },
    {
     "name": "stderr",
     "output_type": "stream",
     "text": [
      "/Users/paul/anaconda3/lib/python3.7/site-packages/ipykernel_launcher.py:9: UserWarning: Creating legend with loc=\"best\" can be slow with large amounts of data.\n",
      "  if __name__ == '__main__':\n"
     ]
    },
    {
     "name": "stdout",
     "output_type": "stream",
     "text": [
      "[0.07, 1, 500]\n"
     ]
    },
    {
     "name": "stderr",
     "output_type": "stream",
     "text": [
      "/Users/paul/anaconda3/lib/python3.7/site-packages/ipykernel_launcher.py:9: UserWarning: Creating legend with loc=\"best\" can be slow with large amounts of data.\n",
      "  if __name__ == '__main__':\n"
     ]
    },
    {
     "name": "stdout",
     "output_type": "stream",
     "text": [
      "[0.07, 1, 500]\n"
     ]
    },
    {
     "name": "stderr",
     "output_type": "stream",
     "text": [
      "/Users/paul/anaconda3/lib/python3.7/site-packages/ipykernel_launcher.py:9: UserWarning: Creating legend with loc=\"best\" can be slow with large amounts of data.\n",
      "  if __name__ == '__main__':\n"
     ]
    },
    {
     "name": "stdout",
     "output_type": "stream",
     "text": [
      "[0.07, 1, 500]\n"
     ]
    },
    {
     "name": "stderr",
     "output_type": "stream",
     "text": [
      "/Users/paul/anaconda3/lib/python3.7/site-packages/ipykernel_launcher.py:9: UserWarning: Creating legend with loc=\"best\" can be slow with large amounts of data.\n",
      "  if __name__ == '__main__':\n"
     ]
    },
    {
     "name": "stdout",
     "output_type": "stream",
     "text": [
      "[0.07, 1, 500]\n"
     ]
    },
    {
     "name": "stderr",
     "output_type": "stream",
     "text": [
      "/Users/paul/anaconda3/lib/python3.7/site-packages/ipykernel_launcher.py:9: UserWarning: Creating legend with loc=\"best\" can be slow with large amounts of data.\n",
      "  if __name__ == '__main__':\n"
     ]
    }
   ],
   "source": [
    "fs = 500\n",
    "for i in list(traces):\n",
    "    rt = read_respiratory_trace(i, column = 2)\n",
    "    rt = rt - np.mean(rt)\n",
    "    filt = filter_frequency(data = rt,fs = fs, order = 3)\n",
    "    plt.plot(filt, label = 'filter', alpha = 1)\n",
    "    plt.plot(rt, label = 'raw', alpha = 0.5)\n",
    "    plt.legend()\n",
    "    plt.savefig(f'figs/{i}.pdf')\n",
    "    plt.close()"
   ]
  },
  {
   "cell_type": "code",
   "execution_count": 7,
   "metadata": {},
   "outputs": [
    {
     "data": {
      "text/plain": [
       "[<matplotlib.lines.Line2D at 0x135539050>]"
      ]
     },
     "execution_count": 7,
     "metadata": {},
     "output_type": "execute_result"
    },
    {
     "data": {
      "image/png": "[encoded data removed]",
      "text/plain": [
       "<Figure size 864x360 with 1 Axes>"
      ]
     },
     "metadata": {
      "needs_background": "light"
     },
     "output_type": "display_data"
    }
   ],
   "source": [
    "plt.rcParams['figure.figsize'] = [12, 5]\n",
    "plt.plot(rt)"
   ]
  },
  {
   "cell_type": "markdown",
   "metadata": {},
   "source": [
    "# Filter and plot \n",
    "\n",
    "tell it the sampling frequency is 500hz"
   ]
  },
  {
   "cell_type": "code",
   "execution_count": 3,
   "metadata": {},
   "outputs": [
    {
     "ename": "NameError",
     "evalue": "name 'rt' is not defined",
     "output_type": "error",
     "traceback": [
      "\u001b[0;31m---------------------------------------------------------------------------\u001b[0m",
      "\u001b[0;31mNameError\u001b[0m                                 Traceback (most recent call last)",
      "\u001b[0;32m<ipython-input-3-4856e54128e1>\u001b[0m in \u001b[0;36m<module>\u001b[0;34m\u001b[0m\n\u001b[1;32m      1\u001b[0m \u001b[0mfs\u001b[0m \u001b[0;34m=\u001b[0m \u001b[0;36m500\u001b[0m\u001b[0;34m\u001b[0m\u001b[0;34m\u001b[0m\u001b[0m\n\u001b[0;32m----> 2\u001b[0;31m \u001b[0mrt\u001b[0m \u001b[0;34m=\u001b[0m \u001b[0mrt\u001b[0m \u001b[0;34m-\u001b[0m \u001b[0mnp\u001b[0m\u001b[0;34m.\u001b[0m\u001b[0mmean\u001b[0m\u001b[0;34m(\u001b[0m\u001b[0mrt\u001b[0m\u001b[0;34m)\u001b[0m\u001b[0;34m\u001b[0m\u001b[0;34m\u001b[0m\u001b[0m\n\u001b[0m\u001b[1;32m      3\u001b[0m \u001b[0mmax_freq\u001b[0m \u001b[0;34m=\u001b[0m \u001b[0mextract_max_freq\u001b[0m\u001b[0;34m(\u001b[0m\u001b[0mrt\u001b[0m\u001b[0;34m,\u001b[0m \u001b[0mfs\u001b[0m\u001b[0;34m)\u001b[0m\u001b[0;34m\u001b[0m\u001b[0;34m\u001b[0m\u001b[0m\n\u001b[1;32m      4\u001b[0m \u001b[0mmax_freq\u001b[0m\u001b[0;34m\u001b[0m\u001b[0;34m\u001b[0m\u001b[0m\n",
      "\u001b[0;31mNameError\u001b[0m: name 'rt' is not defined"
     ]
    }
   ],
   "source": [
    "fs = 500\n",
    "rt = rt - np.mean(rt)\n",
    "max_freq = extract_max_freq(rt, fs)\n",
    "max_freq"
   ]
  },
  {
   "cell_type": "code",
   "execution_count": 9,
   "metadata": {},
   "outputs": [
    {
     "name": "stdout",
     "output_type": "stream",
     "text": [
      "[0.07, 1, 500]\n"
     ]
    },
    {
     "data": {
      "text/plain": [
       "[<matplotlib.lines.Line2D at 0x13632af50>]"
      ]
     },
     "execution_count": 9,
     "metadata": {},
     "output_type": "execute_result"
    },
    {
     "data": {
      "image/png": "[encoded data removed]",
      "text/plain": [
       "<Figure size 864x360 with 1 Axes>"
      ]
     },
     "metadata": {
      "needs_background": "light"
     },
     "output_type": "display_data"
    }
   ],
   "source": [
    "plt.plot(butter_bandpass_filter(data = rt, lowcut = 0.07, highcut = 1, fs = fs, order = 3))"
   ]
  },
  {
   "cell_type": "code",
   "execution_count": 140,
   "metadata": {},
   "outputs": [
    {
     "name": "stdout",
     "output_type": "stream",
     "text": [
      "[0.07, 1, 500]\n"
     ]
    }
   ],
   "source": [
    "filtered = filter_frequency(rt, fs, order = 2)"
   ]
  },
  {
   "cell_type": "code",
   "execution_count": 124,
   "metadata": {},
   "outputs": [
    {
     "data": {
      "text/plain": [
       "[<matplotlib.lines.Line2D at 0x199733a50>]"
      ]
     },
     "execution_count": 124,
     "metadata": {},
     "output_type": "execute_result"
    },
    {
     "data": {
      "image/png": "[encoded data removed]",
      "text/plain": [
       "<Figure size 864x360 with 1 Axes>"
      ]
     },
     "metadata": {
      "needs_background": "light"
     },
     "output_type": "display_data"
    }
   ],
   "source": [
    "plt.rcParams['figure.figsize'] = [12, 5]\n",
    "plt.plot(filtered)"
   ]
  },
  {
   "cell_type": "code",
   "execution_count": 148,
   "metadata": {},
   "outputs": [
    {
     "data": {
      "text/plain": [
       "<matplotlib.legend.Legend at 0x1a745ca50>"
      ]
     },
     "execution_count": 148,
     "metadata": {},
     "output_type": "execute_result"
    },
    {
     "data": {
      "image/png": "[encoded data removed]",
      "text/plain": [
       "<Figure size 864x360 with 1 Axes>"
      ]
     },
     "metadata": {
      "needs_background": "light"
     },
     "output_type": "display_data"
    }
   ],
   "source": [
    "signalFFT_filt = abs(fft(filtered))**2\n",
    "signalFFT_raw = abs(fft(rt))**2\n",
    "\n",
    "\n",
    "## Get Power Spectral Density\n",
    "#signalPSD = np.abs(signalFFT) ** 2\n",
    "\n",
    "## Get frequencies corresponding to signal PSD\n",
    "fftFreq = fftfreq((rt.shape[0]), d = 1/500)\n",
    "\n",
    "## Get positive half of frequencies\n",
    "i = fftFreq>0\n",
    "\n",
    "##\n",
    "plt.figurefigsize=(8,4);\n",
    "plt.plot(fftFreq[i], np.log10(signalFFT_filt[i]), label = 'order2');\n",
    "plt.plot(fftFreq[i], np.log10(signalFFT_raw[i]), label = 'raw');\n",
    "plt.xlabel('Frequency Hz');\n",
    "plt.ylabel('PSD (dB)')\n",
    "plt.xlim(0,10)\n",
    "plt.legend()"
   ]
  },
  {
   "cell_type": "markdown",
   "metadata": {},
   "source": [
    "# Filter and plot with a lower input sampling frequency"
   ]
  },
  {
   "cell_type": "code",
   "execution_count": 23,
   "metadata": {},
   "outputs": [
    {
     "name": "stdout",
     "output_type": "stream",
     "text": [
      "0.00025 0.005 200.0\n"
     ]
    },
    {
     "data": {
      "text/plain": [
       "[<matplotlib.lines.Line2D at 0x138806890>]"
      ]
     },
     "execution_count": 23,
     "metadata": {},
     "output_type": "execute_result"
    },
    {
     "data": {
      "image/png": "[encoded data removed]",
      "text/plain": [
       "<Figure size 864x360 with 1 Axes>"
      ]
     },
     "metadata": {
      "needs_background": "light"
     },
     "output_type": "display_data"
    }
   ],
   "source": [
    "fs = 400\n",
    "rt = rt - np.mean(rt)\n",
    "max_freq = extract_max_freq(rt, fs)\n",
    "filtered = filter_frequency(rt, fs)\n",
    "plt.rcParams['figure.figsize'] = [12, 5]\n",
    "plt.plot(filtered)\n"
   ]
  },
  {
   "cell_type": "code",
   "execution_count": 24,
   "metadata": {},
   "outputs": [],
   "source": [
    "def get_motion_freq(raw_data, tr, scan_id, max_tr_num):\n",
    "\thalf_max_num = math.ceil(max_tr_num/2)\n",
    "\tsampling_rate = 1/tr\n",
    "\n",
    "\t# get the frequencies to use for the reference\n",
    "\tfull_freqs = (fftfreq(max_tr_num) * sampling_rate)[0:half_max_num]\n",
    "\n",
    "\t# set up size of output matrix\n",
    "\tfreq_mat = np.zeros(half_max_num)\n",
    "\n",
    "\t# generate spectra for each of the 6 parameters\n",
    "\tfor i in range(6):\n",
    "\t\t# generate the fft and raw frequencies\n",
    "\t\tfft_init = (fft(raw_data))[0:math.ceil(raw_data.shape[0]/2)]\n",
    "\t\traw_freqs = (fftfreq(raw_data.shape[0]) * sampling_rate)[0:math.ceil(raw_data.shape[0]/2)]\n",
    "\n",
    "\t\t# if number of trs in scan is not equal to the reference number of TRs, interpolate\n",
    "\t\t# save the absolute value at each frequency\n",
    "\t\tif raw_data.shape[0] != max_tr_num:\n",
    "\t\t\tupsample_func = interp1d(raw_freqs, fft_init, fill_value = 'extrapolate')\n",
    "\t\t\tfreq_mat = np.abs(upsample_func(full_freqs))\n",
    "\t\telse:\n",
    "\t\t\tfreq_mat = np.abs(fft_init[0:half_max_num])\n",
    "\n",
    "\t# output scan-specific DataFrame\n",
    "\tdf = pd.DataFrame(freq_mat)\n",
    "\tdf['frequency'] = full_freqs\n",
    "\tdf = df[df.frequency >= 0]\n",
    "\tdf['scan_id'] = scan_id\n",
    "\treturn(df)"
   ]
  },
  {
   "cell_type": "code",
   "execution_count": 35,
   "metadata": {},
   "outputs": [],
   "source": [
    "a= get_motion_freq(raw_data = rt, tr = 1/500, scan_id= 'test', max_tr_num = 451000)"
   ]
  },
  {
   "cell_type": "code",
   "execution_count": 47,
   "metadata": {},
   "outputs": [
    {
     "name": "stdout",
     "output_type": "stream",
     "text": [
      "['sub-09_ses-movie_task-movie_run-6_recording-cardresp_physio.tsv.gz', 'sub-15_ses-movie_task-movie_run-3_recording-cardresp_physio.tsv.gz', 'sub-02_ses-movie_task-movie_run-3_recording-cardresp_physio.tsv.gz', 'sub-04_ses-movie_task-movie_run-5_recording-cardresp_physio.tsv.gz', 'sub-10_ses-movie_task-movie_run-6_recording-cardresp_physio.tsv.gz', 'sub-04_ses-movie_task-movie_run-1_recording-cardresp_physio.tsv.gz', 'sub-10_ses-movie_task-movie_run-2_recording-cardresp_physio.tsv.gz', 'sub-18_ses-movie_task-movie_run-4_recording-cardresp_physio.tsv.gz', 'sub-15_ses-movie_task-movie_run-7_recording-cardresp_physio.tsv.gz', 'sub-09_ses-movie_task-movie_run-2_recording-cardresp_physio.tsv.gz', 'sub-16_ses-movie_task-movie_run-4_recording-cardresp_physio.tsv.gz', 'sub-02_ses-movie_task-movie_run-7_recording-cardresp_physio.tsv.gz', 'sub-03_ses-movie_task-movie_run-8_recording-cardresp_physio.tsv.gz', 'sub-14_ses-movie_task-movie_run-8_recording-cardresp_physio.tsv.gz', 'sub-20_ses-movie_task-movie_run-2_recording-cardresp_physio.tsv.gz', 'sub-17_ses-movie_task-movie_run-3_recording-cardresp_physio.tsv.gz', 'sub-06_ses-movie_task-movie_run-5_recording-cardresp_physio.tsv.gz', 'sub-19_ses-movie_task-movie_run-3_recording-cardresp_physio.tsv.gz', 'sub-05_ses-movie_task-movie_run-6_recording-cardresp_physio.tsv.gz', 'sub-16_ses-movie_task-movie_run-8_recording-cardresp_physio.tsv.gz', 'sub-18_ses-movie_task-movie_run-8_recording-cardresp_physio.tsv.gz', 'sub-06_ses-movie_task-movie_run-1_recording-cardresp_physio.tsv.gz', 'sub-05_ses-movie_task-movie_run-2_recording-cardresp_physio.tsv.gz', 'sub-19_ses-movie_task-movie_run-7_recording-cardresp_physio.tsv.gz', 'sub-14_ses-movie_task-movie_run-4_recording-cardresp_physio.tsv.gz', 'sub-17_ses-movie_task-movie_run-7_recording-cardresp_physio.tsv.gz', 'sub-03_ses-movie_task-movie_run-4_recording-cardresp_physio.tsv.gz', 'sub-20_ses-movie_task-movie_run-6_recording-cardresp_physio.tsv.gz', 'sub-06_ses-movie_task-movie_run-6_recording-cardresp_physio.tsv.gz', 'sub-05_ses-movie_task-movie_run-5_recording-cardresp_physio.tsv.gz', 'sub-14_ses-movie_task-movie_run-3_recording-cardresp_physio.tsv.gz', 'sub-03_ses-movie_task-movie_run-3_recording-cardresp_physio.tsv.gz', 'sub-20_ses-movie_task-movie_run-1_recording-cardresp_physio.tsv.gz', 'sub-02_ses-movie_task-movie_run-8_recording-cardresp_physio.tsv.gz', 'sub-15_ses-movie_task-movie_run-8_recording-cardresp_physio.tsv.gz', 'sub-14_ses-movie_task-movie_run-7_recording-cardresp_physio.tsv.gz', 'sub-20_ses-movie_task-movie_run-5_recording-cardresp_physio.tsv.gz', 'sub-03_ses-movie_task-movie_run-7_recording-cardresp_physio.tsv.gz', 'sub-17_ses-movie_task-movie_run-4_recording-cardresp_physio.tsv.gz', 'sub-06_ses-movie_task-movie_run-2_recording-cardresp_physio.tsv.gz', 'sub-19_ses-movie_task-movie_run-4_recording-cardresp_physio.tsv.gz', 'sub-05_ses-movie_task-movie_run-1_recording-cardresp_physio.tsv.gz', 'sub-10_ses-movie_task-movie_run-5_recording-cardresp_physio.tsv.gz', 'sub-04_ses-movie_task-movie_run-6_recording-cardresp_physio.tsv.gz', 'sub-18_ses-movie_task-movie_run-3_recording-cardresp_physio.tsv.gz', 'sub-09_ses-movie_task-movie_run-5_recording-cardresp_physio.tsv.gz', 'sub-16_ses-movie_task-movie_run-3_recording-cardresp_physio.tsv.gz', 'sub-09_ses-movie_task-movie_run-1_recording-cardresp_physio.tsv.gz', 'sub-15_ses-movie_task-movie_run-4_recording-cardresp_physio.tsv.gz', 'sub-02_ses-movie_task-movie_run-4_recording-cardresp_physio.tsv.gz', 'sub-16_ses-movie_task-movie_run-7_recording-cardresp_physio.tsv.gz', 'sub-18_ses-movie_task-movie_run-7_recording-cardresp_physio.tsv.gz', 'sub-10_ses-movie_task-movie_run-1_recording-cardresp_physio.tsv.gz', 'sub-04_ses-movie_task-movie_run-2_recording-cardresp_physio.tsv.gz', 'sub-19_ses-movie_task-movie_run-8_recording-cardresp_physio.tsv.gz', 'sub-17_ses-movie_task-movie_run-8_recording-cardresp_physio.tsv.gz', 'sub-19_ses-movie_task-movie_run-6_recording-cardresp_physio.tsv.gz', 'sub-05_ses-movie_task-movie_run-3_recording-cardresp_physio.tsv.gz', 'sub-20_ses-movie_task-movie_run-7_recording-cardresp_physio.tsv.gz', 'sub-03_ses-movie_task-movie_run-5_recording-cardresp_physio.tsv.gz', 'sub-17_ses-movie_task-movie_run-6_recording-cardresp_physio.tsv.gz', 'sub-14_ses-movie_task-movie_run-5_recording-cardresp_physio.tsv.gz', 'sub-03_ses-movie_task-movie_run-1_recording-cardresp_physio.tsv.gz', 'sub-17_ses-movie_task-movie_run-2_recording-cardresp_physio.tsv.gz', 'sub-20_ses-movie_task-movie_run-3_recording-cardresp_physio.tsv.gz', 'sub-14_ses-movie_task-movie_run-1_recording-cardresp_physio.tsv.gz', 'sub-05_ses-movie_task-movie_run-7_recording-cardresp_physio.tsv.gz', 'sub-19_ses-movie_task-movie_run-2_recording-cardresp_physio.tsv.gz', 'sub-06_ses-movie_task-movie_run-4_recording-cardresp_physio.tsv.gz', 'sub-04_ses-movie_task-movie_run-8_recording-cardresp_physio.tsv.gz', 'sub-18_ses-movie_task-movie_run-5_recording-cardresp_physio.tsv.gz', 'sub-10_ses-movie_task-movie_run-3_recording-cardresp_physio.tsv.gz', 'sub-02_ses-movie_task-movie_run-6_recording-cardresp_physio.tsv.gz', 'sub-16_ses-movie_task-movie_run-5_recording-cardresp_physio.tsv.gz', 'sub-09_ses-movie_task-movie_run-3_recording-cardresp_physio.tsv.gz', 'sub-15_ses-movie_task-movie_run-6_recording-cardresp_physio.tsv.gz', 'sub-06_ses-movie_task-movie_run-8_recording-cardresp_physio.tsv.gz', 'sub-02_ses-movie_task-movie_run-2_recording-cardresp_physio.tsv.gz', 'sub-16_ses-movie_task-movie_run-1_recording-cardresp_physio.tsv.gz', 'sub-15_ses-movie_task-movie_run-2_recording-cardresp_physio.tsv.gz', 'sub-09_ses-movie_task-movie_run-7_recording-cardresp_physio.tsv.gz', 'sub-10_ses-movie_task-movie_run-7_recording-cardresp_physio.tsv.gz', 'sub-04_ses-movie_task-movie_run-4_recording-cardresp_physio.tsv.gz', 'sub-18_ses-movie_task-movie_run-1_recording-cardresp_physio.tsv.gz', 'sub-16_ses-movie_task-movie_run-6_recording-cardresp_physio.tsv.gz', 'sub-02_ses-movie_task-movie_run-5_recording-cardresp_physio.tsv.gz', 'sub-15_ses-movie_task-movie_run-5_recording-cardresp_physio.tsv.gz', 'sub-04_ses-movie_task-movie_run-3_recording-cardresp_physio.tsv.gz', 'sub-18_ses-movie_task-movie_run-6_recording-cardresp_physio.tsv.gz', 'sub-20_ses-movie_task-movie_run-8_recording-cardresp_physio.tsv.gz', 'sub-05_ses-movie_task-movie_run-8_recording-cardresp_physio.tsv.gz', 'sub-18_ses-movie_task-movie_run-2_recording-cardresp_physio.tsv.gz', 'sub-04_ses-movie_task-movie_run-7_recording-cardresp_physio.tsv.gz', 'sub-10_ses-movie_task-movie_run-4_recording-cardresp_physio.tsv.gz', 'sub-16_ses-movie_task-movie_run-2_recording-cardresp_physio.tsv.gz', 'sub-02_ses-movie_task-movie_run-1_recording-cardresp_physio.tsv.gz', 'sub-09_ses-movie_task-movie_run-4_recording-cardresp_physio.tsv.gz', 'sub-15_ses-movie_task-movie_run-1_recording-cardresp_physio.tsv.gz', 'sub-17_ses-movie_task-movie_run-5_recording-cardresp_physio.tsv.gz', 'sub-03_ses-movie_task-movie_run-6_recording-cardresp_physio.tsv.gz', 'sub-20_ses-movie_task-movie_run-4_recording-cardresp_physio.tsv.gz', 'sub-14_ses-movie_task-movie_run-6_recording-cardresp_physio.tsv.gz', 'sub-19_ses-movie_task-movie_run-5_recording-cardresp_physio.tsv.gz', 'sub-06_ses-movie_task-movie_run-3_recording-cardresp_physio.tsv.gz', 'sub-19_ses-movie_task-movie_run-1_recording-cardresp_physio.tsv.gz', 'sub-05_ses-movie_task-movie_run-4_recording-cardresp_physio.tsv.gz', 'sub-06_ses-movie_task-movie_run-7_recording-cardresp_physio.tsv.gz', 'sub-17_ses-movie_task-movie_run-1_recording-cardresp_physio.tsv.gz', 'sub-03_ses-movie_task-movie_run-2_recording-cardresp_physio.tsv.gz', 'sub-14_ses-movie_task-movie_run-2_recording-cardresp_physio.tsv.gz', 'sub-09_ses-movie_task-movie_run-8_recording-cardresp_physio.tsv.gz', 'sub-10_ses-movie_task-movie_run-8_recording-cardresp_physio.tsv.gz']\n"
     ]
    }
   ],
   "source": [
    "out_df_list = []\n",
    "max_tr_num = 200000\n",
    "files = glob.glob('*tsv.gz')\n",
    "print(files)\n"
   ]
  },
  {
   "cell_type": "code",
   "execution_count": 53,
   "metadata": {},
   "outputs": [
    {
     "name": "stdout",
     "output_type": "stream",
     "text": [
      "0\n",
      "1\n",
      "2\n",
      "3\n",
      "4\n",
      "5\n",
      "6\n",
      "7\n",
      "8\n",
      "9\n",
      "10\n",
      "11\n",
      "12\n",
      "13\n",
      "14\n",
      "15\n",
      "16\n",
      "17\n",
      "18\n",
      "19\n",
      "20\n",
      "21\n",
      "22\n",
      "23\n",
      "24\n",
      "25\n",
      "26\n",
      "27\n",
      "28\n",
      "29\n",
      "30\n",
      "31\n",
      "32\n",
      "33\n",
      "34\n",
      "35\n",
      "36\n",
      "37\n",
      "38\n",
      "39\n",
      "40\n",
      "41\n",
      "42\n",
      "43\n",
      "44\n",
      "45\n",
      "46\n",
      "47\n",
      "48\n",
      "49\n",
      "50\n",
      "51\n",
      "52\n",
      "53\n",
      "54\n",
      "55\n",
      "56\n",
      "57\n",
      "58\n",
      "59\n",
      "60\n",
      "61\n",
      "62\n",
      "63\n",
      "64\n",
      "65\n",
      "66\n",
      "67\n",
      "68\n",
      "69\n",
      "70\n",
      "71\n",
      "72\n",
      "73\n",
      "74\n",
      "75\n",
      "76\n",
      "77\n",
      "78\n",
      "79\n",
      "80\n",
      "81\n",
      "82\n",
      "83\n",
      "84\n",
      "85\n",
      "86\n",
      "87\n",
      "88\n",
      "89\n",
      "90\n",
      "91\n",
      "92\n",
      "93\n",
      "94\n",
      "95\n",
      "96\n",
      "97\n",
      "98\n",
      "99\n",
      "100\n",
      "101\n",
      "102\n",
      "103\n",
      "104\n",
      "105\n",
      "106\n",
      "107\n",
      "108\n",
      "109\n",
      "110\n",
      "111\n"
     ]
    }
   ],
   "source": [
    "for index, file in enumerate(files):\n",
    "    print(index)\n",
    "    raw = read_respiratory_trace(file, column = 2)\n",
    "    # get the motion power spectra for 1 scan\n",
    "    motion_power_spectra = get_motion_freq(raw_data= raw, tr = 1/500, scan_id = file.split('/')[-1], max_tr_num = max_tr_num)\n",
    "    # add median fd to scan (for ranking)\n",
    "    motion_power_spectra['num_tr'] = raw.shape[0]\n",
    "    out_df_list.append(motion_power_spectra)"
   ]
  },
  {
   "cell_type": "code",
   "execution_count": 54,
   "metadata": {},
   "outputs": [],
   "source": [
    "combined_df = pd.concat(out_df_list)"
   ]
  },
  {
   "cell_type": "code",
   "execution_count": 59,
   "metadata": {},
   "outputs": [
    {
     "ename": "KeyboardInterrupt",
     "evalue": "",
     "output_type": "error",
     "traceback": [
      "\u001b[0;31m---------------------------------------------------------------------------\u001b[0m",
      "\u001b[0;31mKeyboardInterrupt\u001b[0m                         Traceback (most recent call last)",
      "\u001b[0;32m<ipython-input-59-9d834e9cb4cd>\u001b[0m in \u001b[0;36m<module>\u001b[0;34m\u001b[0m\n\u001b[1;32m      1\u001b[0m \u001b[0mcombined_df\u001b[0m\u001b[0;34m.\u001b[0m\u001b[0mhead\u001b[0m\u001b[0;34m(\u001b[0m\u001b[0;34m)\u001b[0m\u001b[0;34m\u001b[0m\u001b[0;34m\u001b[0m\u001b[0m\n\u001b[0;32m----> 2\u001b[0;31m \u001b[0mcombined_df\u001b[0m\u001b[0;34m.\u001b[0m\u001b[0mto_csv\u001b[0m\u001b[0;34m(\u001b[0m\u001b[0;34m'respiration_freqs.csv'\u001b[0m\u001b[0;34m,\u001b[0m \u001b[0mindex\u001b[0m \u001b[0;34m=\u001b[0m \u001b[0;32mFalse\u001b[0m\u001b[0;34m)\u001b[0m\u001b[0;34m\u001b[0m\u001b[0;34m\u001b[0m\u001b[0m\n\u001b[0m",
      "\u001b[0;32m~/anaconda3/lib/python3.7/site-packages/pandas/core/generic.py\u001b[0m in \u001b[0;36mto_csv\u001b[0;34m(self, path_or_buf, sep, na_rep, float_format, columns, header, index, index_label, mode, encoding, compression, quoting, quotechar, line_terminator, chunksize, date_format, doublequote, escapechar, decimal)\u001b[0m\n\u001b[1;32m   3226\u001b[0m             \u001b[0mdecimal\u001b[0m\u001b[0;34m=\u001b[0m\u001b[0mdecimal\u001b[0m\u001b[0;34m,\u001b[0m\u001b[0;34m\u001b[0m\u001b[0;34m\u001b[0m\u001b[0m\n\u001b[1;32m   3227\u001b[0m         )\n\u001b[0;32m-> 3228\u001b[0;31m         \u001b[0mformatter\u001b[0m\u001b[0;34m.\u001b[0m\u001b[0msave\u001b[0m\u001b[0;34m(\u001b[0m\u001b[0;34m)\u001b[0m\u001b[0;34m\u001b[0m\u001b[0;34m\u001b[0m\u001b[0m\n\u001b[0m\u001b[1;32m   3229\u001b[0m \u001b[0;34m\u001b[0m\u001b[0m\n\u001b[1;32m   3230\u001b[0m         \u001b[0;32mif\u001b[0m \u001b[0mpath_or_buf\u001b[0m \u001b[0;32mis\u001b[0m \u001b[0;32mNone\u001b[0m\u001b[0;34m:\u001b[0m\u001b[0;34m\u001b[0m\u001b[0;34m\u001b[0m\u001b[0m\n",
      "\u001b[0;32m~/anaconda3/lib/python3.7/site-packages/pandas/io/formats/csvs.py\u001b[0m in \u001b[0;36msave\u001b[0;34m(self)\u001b[0m\n\u001b[1;32m    200\u001b[0m                 \u001b[0mself\u001b[0m\u001b[0;34m.\u001b[0m\u001b[0mwriter\u001b[0m \u001b[0;34m=\u001b[0m \u001b[0mUnicodeWriter\u001b[0m\u001b[0;34m(\u001b[0m\u001b[0mf\u001b[0m\u001b[0;34m,\u001b[0m \u001b[0;34m**\u001b[0m\u001b[0mwriter_kwargs\u001b[0m\u001b[0;34m)\u001b[0m\u001b[0;34m\u001b[0m\u001b[0;34m\u001b[0m\u001b[0m\n\u001b[1;32m    201\u001b[0m \u001b[0;34m\u001b[0m\u001b[0m\n\u001b[0;32m--> 202\u001b[0;31m             \u001b[0mself\u001b[0m\u001b[0;34m.\u001b[0m\u001b[0m_save\u001b[0m\u001b[0;34m(\u001b[0m\u001b[0;34m)\u001b[0m\u001b[0;34m\u001b[0m\u001b[0;34m\u001b[0m\u001b[0m\n\u001b[0m\u001b[1;32m    203\u001b[0m \u001b[0;34m\u001b[0m\u001b[0m\n\u001b[1;32m    204\u001b[0m         \u001b[0;32mfinally\u001b[0m\u001b[0;34m:\u001b[0m\u001b[0;34m\u001b[0m\u001b[0;34m\u001b[0m\u001b[0m\n",
      "\u001b[0;32m~/anaconda3/lib/python3.7/site-packages/pandas/io/formats/csvs.py\u001b[0m in \u001b[0;36m_save\u001b[0;34m(self)\u001b[0m\n\u001b[1;32m    322\u001b[0m                 \u001b[0;32mbreak\u001b[0m\u001b[0;34m\u001b[0m\u001b[0;34m\u001b[0m\u001b[0m\n\u001b[1;32m    323\u001b[0m \u001b[0;34m\u001b[0m\u001b[0m\n\u001b[0;32m--> 324\u001b[0;31m             \u001b[0mself\u001b[0m\u001b[0;34m.\u001b[0m\u001b[0m_save_chunk\u001b[0m\u001b[0;34m(\u001b[0m\u001b[0mstart_i\u001b[0m\u001b[0;34m,\u001b[0m \u001b[0mend_i\u001b[0m\u001b[0;34m)\u001b[0m\u001b[0;34m\u001b[0m\u001b[0;34m\u001b[0m\u001b[0m\n\u001b[0m\u001b[1;32m    325\u001b[0m \u001b[0;34m\u001b[0m\u001b[0m\n\u001b[1;32m    326\u001b[0m     \u001b[0;32mdef\u001b[0m \u001b[0m_save_chunk\u001b[0m\u001b[0;34m(\u001b[0m\u001b[0mself\u001b[0m\u001b[0;34m,\u001b[0m \u001b[0mstart_i\u001b[0m\u001b[0;34m,\u001b[0m \u001b[0mend_i\u001b[0m\u001b[0;34m)\u001b[0m\u001b[0;34m:\u001b[0m\u001b[0;34m\u001b[0m\u001b[0;34m\u001b[0m\u001b[0m\n",
      "\u001b[0;32m~/anaconda3/lib/python3.7/site-packages/pandas/io/formats/csvs.py\u001b[0m in \u001b[0;36m_save_chunk\u001b[0;34m(self, start_i, end_i)\u001b[0m\n\u001b[1;32m    354\u001b[0m         )\n\u001b[1;32m    355\u001b[0m \u001b[0;34m\u001b[0m\u001b[0m\n\u001b[0;32m--> 356\u001b[0;31m         \u001b[0mlibwriters\u001b[0m\u001b[0;34m.\u001b[0m\u001b[0mwrite_csv_rows\u001b[0m\u001b[0;34m(\u001b[0m\u001b[0mself\u001b[0m\u001b[0;34m.\u001b[0m\u001b[0mdata\u001b[0m\u001b[0;34m,\u001b[0m \u001b[0mix\u001b[0m\u001b[0;34m,\u001b[0m \u001b[0mself\u001b[0m\u001b[0;34m.\u001b[0m\u001b[0mnlevels\u001b[0m\u001b[0;34m,\u001b[0m \u001b[0mself\u001b[0m\u001b[0;34m.\u001b[0m\u001b[0mcols\u001b[0m\u001b[0;34m,\u001b[0m \u001b[0mself\u001b[0m\u001b[0;34m.\u001b[0m\u001b[0mwriter\u001b[0m\u001b[0;34m)\u001b[0m\u001b[0;34m\u001b[0m\u001b[0;34m\u001b[0m\u001b[0m\n\u001b[0m",
      "\u001b[0;32mpandas/_libs/writers.pyx\u001b[0m in \u001b[0;36mpandas._libs.writers.write_csv_rows\u001b[0;34m()\u001b[0m\n",
      "\u001b[0;31mKeyboardInterrupt\u001b[0m: "
     ]
    }
   ],
   "source": [
    "combined_df.head()"
   ]
  },
  {
   "cell_type": "code",
   "execution_count": 63,
   "metadata": {},
   "outputs": [],
   "source": [
    "filt = combined_df[combined_df.frequency <= 2]\n",
    "filt.to_csv('respiration_freqs.csv', index = False)"
   ]
  },
  {
   "cell_type": "code",
   "execution_count": null,
   "metadata": {},
   "outputs": [],
   "source": []
  }
 ],
 "metadata": {
  "kernelspec": {
   "display_name": "Python 3",
   "language": "python",
   "name": "python3"
  },
  "language_info": {
   "codemirror_mode": {
    "name": "ipython",
    "version": 3
   },
   "file_extension": ".py",
   "mimetype": "text/x-python",
   "name": "python",
   "nbconvert_exporter": "python",
   "pygments_lexer": "ipython3",
   "version": "3.7.4"
  }
 },
 "nbformat": 4,
 "nbformat_minor": 4
}
